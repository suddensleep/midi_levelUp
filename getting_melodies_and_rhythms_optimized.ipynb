{
 "cells": [
  {
   "cell_type": "markdown",
   "metadata": {},
   "source": [
    "# Extracting Time Series Data from MIDI Files"
   ]
  },
  {
   "cell_type": "markdown",
   "metadata": {},
   "source": [
    "Let's start by loading all the file names and their channel mappings."
   ]
  },
  {
   "cell_type": "code",
   "execution_count": 1,
   "metadata": {
    "collapsed": true
   },
   "outputs": [],
   "source": [
    "import os\n",
    "import midi\n",
    "import pickle"
   ]
  },
  {
   "cell_type": "code",
   "execution_count": 2,
   "metadata": {
    "collapsed": true
   },
   "outputs": [],
   "source": [
    "with open('channel_mappings.pkl', 'r') as f:\n",
    "    channel_mappings = pickle.load(f)"
   ]
  },
  {
   "cell_type": "code",
   "execution_count": 3,
   "metadata": {
    "collapsed": true
   },
   "outputs": [],
   "source": [
    "midi_path = './midi/pop/'\n",
    "midi_files = os.listdir(midi_path)"
   ]
  },
  {
   "cell_type": "code",
   "execution_count": 4,
   "metadata": {
    "collapsed": true
   },
   "outputs": [],
   "source": [
    "assert len(midi_files) == len(channel_mappings)"
   ]
  },
  {
   "cell_type": "markdown",
   "metadata": {},
   "source": [
    "Before we begin, we'll want to denote which instruments actually play melodies (basically anything that isn't a toneless percussion instrument, sound effect, or \"pad\" instrument). See the chart in [this](./flattening_tracks.ipynb) notebook for reference. If a given channel uses a \"non-melody instrument\", we will only extract the rhythmic information from that channel."
   ]
  },
  {
   "cell_type": "code",
   "execution_count": 5,
   "metadata": {
    "collapsed": true
   },
   "outputs": [],
   "source": [
    "melody_instruments = range(88) + range(104, 112)"
   ]
  },
  {
   "cell_type": "markdown",
   "metadata": {},
   "source": [
    "Now we'll build new object types to contain the time series objects."
   ]
  },
  {
   "cell_type": "code",
   "execution_count": 6,
   "metadata": {
    "collapsed": true
   },
   "outputs": [],
   "source": [
    "class EventSequence(object):\n",
    "    \"\"\"A container for a sequence of events. \n",
    "    \n",
    "    Abstract class, to be implemented via MelodySequence\n",
    "    or RhythmSequence.\n",
    "    \"\"\"\n",
    "    \n",
    "    def __init__(self, num_events = 0, resolution = 240):\n",
    "        \"\"\"Initialize object with default of zero events and \n",
    "        resolution of 240 ticks per beat.\n",
    "        \"\"\"\n",
    "        \n",
    "        self.num_events = num_events\n",
    "        self.resolution = resolution\n",
    "    \n",
    "    def add_event(self):\n",
    "        \"\"\"Add one new event.\"\"\"\n",
    "        \n",
    "        self.num_events += 1\n",
    "        \n",
    "class MelodySequence(EventSequence):\n",
    "    \"\"\"A container for a melodic sequence. \n",
    "    Inherits from EventSequence.\n",
    "    \"\"\"\n",
    "    \n",
    "    def __init__(self, num_events = 0, resolution = 240):\n",
    "        super(MelodySequence, self).__init__(num_events, resolution)\n",
    "        self.notes = []\n",
    "        \n",
    "    def add_note(self, note):\n",
    "        if len(self.notes) > 0 and note[1] == self.notes[-1][1]:\n",
    "            self.add_note_to_chord(note)\n",
    "        else:\n",
    "            super(MelodySequence, self).add_event()\n",
    "            self.notes.append(note)\n",
    "    \n",
    "    def add_note_to_chord(self, note):\n",
    "        previous = self.notes[-1]\n",
    "        if isinstance(previous[0], int):\n",
    "            self.notes[-1] = (list(set([previous[0], note[0]])), previous[1])\n",
    "        else:\n",
    "            self.notes[-1] = (list(set(previous[0] + [note[0]])), previous[1])\n",
    "        \n",
    "class RhythmSequence(EventSequence):\n",
    "    \"\"\"A container for a rhythmic sequence.\n",
    "    Inherits from EventSequence.\n",
    "    \"\"\"\n",
    "    \n",
    "    def __init__(self, num_events = 0, resolution = 240):\n",
    "        super(RhythmSequence, self).__init__(num_events, resolution)\n",
    "        self.ticks = []\n",
    "        \n",
    "    def add_tick(self, tick):\n",
    "        if len(self.ticks) > 0 and tick == self.ticks[-1]:\n",
    "            pass\n",
    "        else:\n",
    "            super(RhythmSequence, self).add_event()\n",
    "            self.ticks.append(tick)\n",
    "            \n",
    "    def normalize(self):\n",
    "        self.ticks = map(lambda x: float(x) / self.resolution, self.ticks)"
   ]
  },
  {
   "cell_type": "markdown",
   "metadata": {},
   "source": [
    "A couple of helper functions to actually extract the sequence of information from the given channel in the given MIDI file."
   ]
  },
  {
   "cell_type": "code",
   "execution_count": 7,
   "metadata": {
    "collapsed": true
   },
   "outputs": [],
   "source": [
    "def get_melody_sequence(melody, mfile, channel):\n",
    "    \"\"\"Pull out the melodies from the given channel in mfile.\n",
    "    \n",
    "    Inputs: melody is an empty MelodySequence object\n",
    "            mfile is a midi.containers.Pattern object\n",
    "            channel is an integer channel number from 0-15 (shouldn't be 9)\n",
    "            \n",
    "    Output: MelodySequence object filled with notes from mfile channel\n",
    "    \"\"\"\n",
    "    \n",
    "    mfile.make_ticks_abs()\n",
    "    for event in mfile[0]:\n",
    "        if isinstance(event, midi.events.NoteOnEvent) and event.channel == channel and event.data[1] != 0:\n",
    "            melody.add_note((event.data[0], event.tick))\n",
    "    melody.notes = sorted(melody.notes, key = lambda x: x[1])\n",
    "    if len(melody.notes) > 0:\n",
    "        melody.notes = list(zip(*melody.notes)[0])\n",
    "    return melody\n",
    "\n",
    "def get_rhythm_sequence(rhythm, mfile, channel):\n",
    "    \"\"\"Pull out the rhythms from the given channel in mfile.\n",
    "    \n",
    "    Inputs: rhythm is an empty RhythmSequence object\n",
    "            mfile is a midi.containers.Pattern object\n",
    "            channel is an integer channel number from 0-15\n",
    "            \n",
    "    Output: Normalized RhythmSequence object filled with ticks \n",
    "            from mfile channel\n",
    "    \"\"\"\n",
    "    \n",
    "    mfile.make_ticks_abs()\n",
    "    for event in mfile[0]:\n",
    "        if (isinstance(event, midi.events.NoteOnEvent) and \n",
    "            event.channel == channel and \n",
    "            event.data[1] != 0):\n",
    "            rhythm.add_tick(event.tick)\n",
    "    rhythm.ticks = sorted(rhythm.ticks)\n",
    "    rhythm.normalize()\n",
    "    return rhythm"
   ]
  },
  {
   "cell_type": "markdown",
   "metadata": {},
   "source": [
    "The main function below will loop through all of the assigned channels, create the relevant time series objects, and call the two helper functions above to get a rhythm and/or melody sequence for each instrument in the song."
   ]
  },
  {
   "cell_type": "code",
   "execution_count": 8,
   "metadata": {
    "collapsed": true
   },
   "outputs": [],
   "source": [
    "def get_sequences(mfile, mapping):\n",
    "    \"\"\"Extract a list of melody sequences and rhythm sequences from mfile.\n",
    "    \n",
    "    Inputs: mfile is a midi.containers.Pattern object\n",
    "            mapping is a dictionary associating \"\"\"\n",
    "    melodies = []\n",
    "    rhythms = []\n",
    "    res = mfile.resolution\n",
    "    for channel in mapping:\n",
    "        instruments = mapping[channel]\n",
    "        if instruments == None:         # skip entire process if channel isn't used\n",
    "            continue\n",
    "                                        # new Sequence objects\n",
    "        #print channel\n",
    "        rhythm = RhythmSequence(resolution = res)\n",
    "        melody = MelodySequence(resolution = res)\n",
    "        melodic_channel = True\n",
    "                                        # if *any* non-melodic instrument is used,\n",
    "        for instrument in instruments:  # the channel will be marked as non-melodic\n",
    "            if instrument not in melody_instruments:\n",
    "                melodic_channel = False\n",
    "                break\n",
    "\n",
    "        if melodic_channel and channel != 9:    # channel 10 reserved for percussion \n",
    "            melodies.append(get_melody_sequence(melody, mfile, channel).notes)\n",
    "        else:                            # capture melody iff melodic instrument\n",
    "            melodies.append([])\n",
    "                                                # always capture rhythm\n",
    "        rhythms.append(get_rhythm_sequence(rhythm, mfile, channel).ticks)\n",
    "\n",
    "    return melodies, rhythms"
   ]
  },
  {
   "cell_type": "markdown",
   "metadata": {},
   "source": [
    "The following helper function takes any MIDI file and creates an equivalent single track (i.e. MIDI format 0) file."
   ]
  },
  {
   "cell_type": "code",
   "execution_count": 9,
   "metadata": {
    "collapsed": true
   },
   "outputs": [],
   "source": [
    "def make_one_track(mfile):\n",
    "    event_list = []\n",
    "    mfile.make_ticks_abs()\n",
    "    for track in mfile:\n",
    "        for event in track:\n",
    "            event_list.append(event)\n",
    "    master_track = midi.containers.Track(events = sorted(event_list, key = lambda x: x.tick), \n",
    "                                         tick_relative = False)\n",
    "    \n",
    "    master_file = midi.containers.Pattern(tracks = [master_track], \n",
    "                                          resolution = mfile.resolution, \n",
    "                                          format = 0, \n",
    "                                          tick_relative = False)\n",
    "    return master_file"
   ]
  },
  {
   "cell_type": "markdown",
   "metadata": {},
   "source": [
    "We'll do a test run on the first two files in the directory."
   ]
  },
  {
   "cell_type": "code",
   "execution_count": 10,
   "metadata": {
    "collapsed": false
   },
   "outputs": [],
   "source": [
    "mfile1 = midi.read_midifile(midi_path + midi_files[0])\n",
    "flat_file1 = make_one_track(mfile1)\n",
    "mapping1 = channel_mappings[0]\n",
    "mfile2 = midi.read_midifile(midi_path + midi_files[1])\n",
    "flat_file2 = make_one_track(mfile2)\n",
    "mapping2 = channel_mappings[1]\n",
    "\n",
    "melodies1, rhythms1 = get_sequences(flat_file1, mapping1)\n",
    "melodies2, rhythms2 = get_sequences(flat_file2, mapping2)"
   ]
  },
  {
   "cell_type": "code",
   "execution_count": 11,
   "metadata": {
    "collapsed": false
   },
   "outputs": [
    {
     "name": "stdout",
     "output_type": "stream",
     "text": [
      "[72, 73, 75, 68, 73, 76, 68, 73, 68, 71, 76, 68, 71, 68, 70, 76, 68, 70, 70, 73, 78, 70, 73, 65, 58, 60, 62]\n"
     ]
    }
   ],
   "source": [
    "print melodies1[0]"
   ]
  },
  {
   "cell_type": "code",
   "execution_count": 12,
   "metadata": {
    "collapsed": false
   },
   "outputs": [
    {
     "name": "stdout",
     "output_type": "stream",
     "text": [
      "[3.0, 4.0, 5.0, 5.716666666666667, 5.866666666666666, 6.066666666666666, 6.966666666666667, 8.008333333333333, 8.966666666666667, 8.991666666666667, 9.008333333333333, 10.0, 11.0, 11.966666666666667, 11.983333333333333, 12.0, 13.0, 14.0, 14.683333333333334, 14.833333333333334, 15.025, 16.0, 17.0, 171.0, 171.95, 173.0, 174.00833333333333]\n"
     ]
    }
   ],
   "source": [
    "print rhythms1[0]"
   ]
  },
  {
   "cell_type": "code",
   "execution_count": 13,
   "metadata": {
    "collapsed": false
   },
   "outputs": [],
   "source": [
    "assert len(melodies1) == len(rhythms1)\n",
    "for i in range(len(melodies1)):\n",
    "    assert (len(melodies1[i]) == len(rhythms1[i]) or len(melodies1[i]) == 0)"
   ]
  },
  {
   "cell_type": "code",
   "execution_count": 14,
   "metadata": {
    "collapsed": false
   },
   "outputs": [
    {
     "name": "stdout",
     "output_type": "stream",
     "text": [
      "[[65, 58], [65, 58], [65, 58], [65, 60], [65, 60], [65, 60], [65, 58], [65, 58], [65, 58], [65, 60], [65, 60], [65, 60], [65, 58], [65, 58], [65, 58], [65, 57], [65, 57], [65, 57], [62, 55], [62, 55], [62, 55], [65, 57], [57, 69, 62], [64, 57, 69], 65, 62, [65, 70], [70, 63], [65, 70], 58, [69, 62], [64, 69], [69, 62], [67, 60], [67, 60], [72, 67], [72, 65], [72, 65], [65, 60], [65, 60], [65, 60], [65, 60], [65, 58], [65, 60], [65, 58], [74, 69], [74, 69], [74, 69], [70, 63], [65, 70], [70, 63], [65, 57], [57, 69, 62], [64, 57, 69], 65, 62, [65, 70], [70, 63], [65, 70], 58, [67, 60], [67, 60], [67, 60], [62, 70], [62, 70], [65, 62], 58, [65, 60], [65, 60], [65, 60], [58, 62], [57, 62], [62, 55], [58, 53], [58, 55], [58, 53], [65, 58], 60, 62, 58, 62, 62, 63, 65, 65, 60, 60, 62, 63, [67, 63], [67, 62], [67, 63], [67, 62], 62, [67, 63], [72, 63], 63, [70, 63], [70, 63], [70, 63], [65, 58], 60, 62, 58, 62, 62, 63, 65, 65, 60, 60, 62, 63, [67, 63], [67, 62], [67, 63], [67, 62], 62, [67, 63], [72, 63], 63, [70, 63], [70, 63], [70, 63], [65, 58], [65, 70], [65, 58], [65, 58], [65, 57], [65, 57], [65, 57], [62, 55], [62, 55], [62, 55], [65, 57], [57, 69, 62], [65, 69, 57], 62, 63, [65, 70], [70, 63], [65, 70], 58, [69, 62], [74, 69], [69, 62], [72, 67], [67, 60], [72, 67], [72, 65], [72, 65], [65, 60], [65, 60], [65, 60], [65, 60], 60, 62, 58, 62, 62, 63, 65, 65, 60, 60, 62, 63, [67, 63], [67, 62], [67, 63], [67, 62], 62, [67, 63], [72, 63], 63, [70, 63], [70, 63], [70, 63], [65, 58], 60, 62, 58, 62, 62, 63, 65, 65, 60, 60, 62, 63, [67, 63], [67, 62], [67, 63], [67, 62], 62, [67, 63], [72, 63], 63, [70, 63], [70, 63], [70, 63], [65, 58], [65, 70], [65, 70], [65, 70], [65, 57], [65, 57], [65, 57], [62, 55], [62, 55], [62, 55], [65, 57], [57, 69, 62], [64, 57, 69], 65, 62, [65, 70], 67, 65, [70, 63], [70, 63], [65, 70], 58, [69, 62], [74, 69], [69, 62], [67, 60], [67, 60], [72, 67], [72, 65], [72, 65], [65, 60], [65, 60], [65, 60], [65, 60], [65, 70], [65, 70], [65, 70], [74, 69], [74, 69], [74, 69], [75, 70], [65, 70], [70, 63], [65, 57], [57, 69, 62], [64, 57, 69], 65, 62, [65, 70], 67, 65, [70, 63], [70, 63], [65, 70], 58, [67, 60, 70], [67, 60, 70], [67, 60, 70], [62, 70], [62, 70], [65, 62], 58, [65, 60], [65, 60], [58, 62], [57, 62], [62, 55], [58, 53], [58, 55], [58, 53], [58, 62], [57, 62], [62, 55], [65, 70], [67, 70], [65, 70], [65, 58]]\n"
     ]
    }
   ],
   "source": [
    "print melodies2[0]"
   ]
  },
  {
   "cell_type": "code",
   "execution_count": 15,
   "metadata": {
    "collapsed": false
   },
   "outputs": [
    {
     "name": "stdout",
     "output_type": "stream",
     "text": [
      "[0.0, 1.5, 3.0, 4.0, 5.5, 7.0, 8.0, 9.5, 11.0, 12.0, 13.5, 15.0, 16.0, 17.5, 19.0, 20.0, 21.5, 23.0, 24.0, 25.5, 27.0, 28.0, 29.5, 31.0, 31.25, 31.5, 32.0, 33.5, 35.0, 35.5, 36.0, 37.5, 39.0, 40.0, 41.5, 43.25, 44.0, 45.5, 47.25, 48.0, 50.0, 51.0, 52.0, 53.5, 55.0, 56.0, 57.5, 59.0, 60.0, 61.5, 63.0, 64.0, 65.5, 67.0, 67.25, 67.5, 68.0, 69.5, 71.0, 71.5, 72.0, 73.5, 75.0, 76.0, 77.5, 79.0, 79.5, 80.0, 82.0, 83.0, 84.0, 85.5, 87.0, 88.0, 89.5, 91.0, 92.0, 96.0, 96.5, 96.75, 97.5, 98.0, 98.5, 99.25, 100.0, 101.5, 102.0, 102.5, 103.25, 104.0, 105.0, 106.0, 106.5, 106.75, 107.25, 108.0, 108.5, 109.0, 110.0, 110.5, 111.25, 112.0, 112.5, 112.75, 113.5, 114.0, 114.5, 115.25, 116.0, 117.5, 118.0, 118.5, 119.25, 120.0, 121.0, 122.0, 122.5, 122.75, 123.25, 124.0, 124.5, 125.0, 126.0, 126.5, 127.25, 128.0, 129.5, 131.0, 132.0, 133.5, 135.0, 136.0, 137.5, 139.0, 140.0, 141.5, 143.0, 143.5, 143.75, 144.0, 145.5, 147.0, 147.5, 148.0, 149.5, 151.0, 152.0, 153.5, 155.25, 156.0, 157.5, 159.25, 160.0, 162.0, 163.0, 164.0, 164.5, 164.75, 165.5, 166.0, 166.5, 167.25, 168.0, 169.5, 170.0, 170.5, 171.25, 172.0, 173.0, 174.0, 174.5, 174.75, 175.25, 176.0, 176.5, 177.0, 178.0, 178.5, 179.25, 180.0, 180.5, 180.75, 181.5, 182.0, 182.5, 183.25, 184.0, 185.5, 186.0, 186.5, 187.25, 188.0, 189.0, 190.0, 190.5, 190.75, 191.25, 192.0, 192.5, 193.0, 194.0, 194.5, 195.25, 196.0, 197.5, 199.0, 200.0, 201.5, 203.0, 204.0, 205.5, 207.0, 208.0, 209.5, 211.0, 211.25, 211.5, 212.0, 212.0625, 212.5, 213.0, 214.0, 215.0, 215.5, 216.0, 217.5, 219.0, 220.0, 221.5, 223.25, 224.0, 225.5, 227.25, 228.0, 230.0, 231.0, 232.0, 233.5, 235.0, 236.0, 237.5, 239.0, 240.0, 241.5, 243.0, 244.0, 245.5, 247.0, 247.25, 247.5, 248.0, 248.0625, 248.5, 249.0, 250.0, 251.0, 251.5, 252.0, 253.5, 255.0, 256.0, 257.5, 259.0, 259.5, 260.0, 262.0, 264.0, 265.5, 267.0, 268.0, 269.5, 271.0, 272.0, 273.5, 275.0, 276.0, 277.5, 279.0, 280.0]\n"
     ]
    }
   ],
   "source": [
    "print rhythms2[0]"
   ]
  },
  {
   "cell_type": "code",
   "execution_count": 16,
   "metadata": {
    "collapsed": false
   },
   "outputs": [],
   "source": [
    "assert len(melodies2) == len(rhythms2)\n",
    "for i in range(len(melodies2)):\n",
    "    assert (len(melodies2[i]) == len(rhythms2[i]) or len(melodies2[i]) == 0)"
   ]
  },
  {
   "cell_type": "markdown",
   "metadata": {},
   "source": [
    "Now, the chords have sets of notes (instead of repeated notes), the rhythmic ticks are all unique and normalized to units of \"beats\", and the sizes of each list match (unless melodic length is zero). It looks like we're ready to scrape all the sequences!"
   ]
  },
  {
   "cell_type": "markdown",
   "metadata": {},
   "source": [
    "## Getting ALL the sequences"
   ]
  },
  {
   "cell_type": "code",
   "execution_count": 17,
   "metadata": {
    "collapsed": false
   },
   "outputs": [
    {
     "name": "stderr",
     "output_type": "stream",
     "text": [
      "/Users/johngilling/anaconda/lib/python2.7/site-packages/midi-0.2.3-py2.7.egg/midi/fileio.py:66: Warning: Unknown Meta MIDI Event: 240\n",
      "/Users/johngilling/anaconda/lib/python2.7/site-packages/midi-0.2.3-py2.7.egg/midi/fileio.py:66: Warning: Unknown Meta MIDI Event: 9\n",
      "/Users/johngilling/anaconda/lib/python2.7/site-packages/midi-0.2.3-py2.7.egg/midi/fileio.py:66: Warning: Unknown Meta MIDI Event: 10\n"
     ]
    }
   ],
   "source": [
    "all_melodies = []\n",
    "all_rhythms = []\n",
    "\n",
    "for i in range(len(midi_files)):\n",
    "    try:\n",
    "        mfile = midi.read_midifile(midi_path + midi_files[i])\n",
    "        flat_file = make_one_track(mfile)\n",
    "        mapping = channel_mappings[i]\n",
    "        melodies, rhythms = get_sequences(flat_file, mapping)\n",
    "        all_melodies += melodies\n",
    "        all_rhythms += rhythms\n",
    "    except:\n",
    "        print \"Error at \" + midi_files[i]"
   ]
  },
  {
   "cell_type": "code",
   "execution_count": 18,
   "metadata": {
    "collapsed": false
   },
   "outputs": [
    {
     "data": {
      "text/plain": [
       "68978"
      ]
     },
     "execution_count": 18,
     "metadata": {},
     "output_type": "execute_result"
    }
   ],
   "source": [
    "len(all_melodies)"
   ]
  },
  {
   "cell_type": "code",
   "execution_count": 19,
   "metadata": {
    "collapsed": false
   },
   "outputs": [
    {
     "data": {
      "text/plain": [
       "68978"
      ]
     },
     "execution_count": 19,
     "metadata": {},
     "output_type": "execute_result"
    }
   ],
   "source": [
    "len(all_rhythms)"
   ]
  },
  {
   "cell_type": "code",
   "execution_count": 20,
   "metadata": {
    "collapsed": true
   },
   "outputs": [],
   "source": [
    "with open('all_melodies.pkl', 'w') as f:\n",
    "    pickle.dump(all_melodies, f)\n",
    "with open('all_rhythms.pkl', 'w') as g:\n",
    "    pickle.dump(all_rhythms, g)"
   ]
  },
  {
   "cell_type": "code",
   "execution_count": 22,
   "metadata": {
    "collapsed": false
   },
   "outputs": [],
   "source": [
    "for i in range(len(all_rhythms)):\n",
    "    assert (len(all_melodies[i]) == 0 or len(all_rhythms[i]) == len(all_melodies[i]))"
   ]
  },
  {
   "cell_type": "code",
   "execution_count": 23,
   "metadata": {
    "collapsed": false
   },
   "outputs": [
    {
     "data": {
      "text/plain": [
       "56721"
      ]
     },
     "execution_count": 23,
     "metadata": {},
     "output_type": "execute_result"
    }
   ],
   "source": [
    "len(filter(lambda x: len(x) > 0, all_melodies))"
   ]
  },
  {
   "cell_type": "code",
   "execution_count": 24,
   "metadata": {
    "collapsed": false
   },
   "outputs": [
    {
     "data": {
      "text/plain": [
       "12257"
      ]
     },
     "execution_count": 24,
     "metadata": {},
     "output_type": "execute_result"
    }
   ],
   "source": [
    "68978 - 56721"
   ]
  },
  {
   "cell_type": "markdown",
   "metadata": {},
   "source": [
    "So we have 56,721 different melody tracks paired with rhythm tracks, and an additional 12,257 purely rhythmic tracks."
   ]
  },
  {
   "cell_type": "code",
   "execution_count": null,
   "metadata": {
    "collapsed": true
   },
   "outputs": [],
   "source": []
  }
 ],
 "metadata": {
  "kernelspec": {
   "display_name": "Python 2",
   "language": "python",
   "name": "python2"
  },
  "language_info": {
   "codemirror_mode": {
    "name": "ipython",
    "version": 2
   },
   "file_extension": ".py",
   "mimetype": "text/x-python",
   "name": "python",
   "nbconvert_exporter": "python",
   "pygments_lexer": "ipython2",
   "version": "2.7.10"
  }
 },
 "nbformat": 4,
 "nbformat_minor": 0
}
