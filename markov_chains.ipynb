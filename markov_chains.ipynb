{
 "cells": [
  {
   "cell_type": "markdown",
   "metadata": {},
   "source": [
    "# Making Markov Chains of Various Types"
   ]
  },
  {
   "cell_type": "markdown",
   "metadata": {},
   "source": [
    "First we'll load the full list of pickled sequences *(this may take a moment or two)*."
   ]
  },
  {
   "cell_type": "code",
   "execution_count": 1,
   "metadata": {
    "collapsed": true
   },
   "outputs": [],
   "source": [
    "import pickle"
   ]
  },
  {
   "cell_type": "code",
   "execution_count": 6,
   "metadata": {
    "collapsed": false
   },
   "outputs": [],
   "source": [
    "with open('all_melodies.pkl', 'r') as f:\n",
    "    all_melodies = pickle.load(f)\n",
    "with open('all_rhythms.pkl', 'r') as g:\n",
    "    all_rhythms = pickle.load(g)"
   ]
  },
  {
   "cell_type": "code",
   "execution_count": 7,
   "metadata": {
    "collapsed": false
   },
   "outputs": [],
   "source": [
    "assert len(all_melodies) == len(all_rhythms)"
   ]
  },
  {
   "cell_type": "markdown",
   "metadata": {},
   "source": [
    "Next, we'll define a **Markov** object that will store Markov chain information for chains of various orders and types."
   ]
  },
  {
   "cell_type": "code",
   "execution_count": 20,
   "metadata": {
    "collapsed": false
   },
   "outputs": [],
   "source": [
    "class Markov(object):\n",
    "    \"\"\"A container for holding Markov chains of various orders, \n",
    "    where the events in the given 'current state' may occur temporally \n",
    "    before and/or after the note to be examined as the 'next state'.\n",
    "    \"\"\"\n",
    "    \n",
    "    def __init__(self, before = 0, after = 0, mode = 0):\n",
    "        \"\"\"Initialize a Markov object with `before` notes before the\n",
    "        space to be filled, `after` notes after the space to be filled,\n",
    "        and with `mode` equal to 0, 1 or 2 according to whether the 'current\n",
    "        state' contains notes only before, only after, or both before and after\n",
    "        the note to be filled in the 'next state'.\n",
    "        \n",
    "        Inputs: \n",
    "        before - int - number of notes before next state\n",
    "        after - int - number of notes after next state\n",
    "        mode - int in range(3) - mode of the chain(see above)\n",
    "        \n",
    "        Outputs - Markov object\n",
    "        \"\"\"\n",
    "        \n",
    "        if mode == 0:\n",
    "            assert before != 0 and after == 0\n",
    "        elif mode == 1:\n",
    "            assert before == 0 and after != 0\n",
    "        else:\n",
    "            assert before != 0 and after != 0\n",
    "\n",
    "        self.before = before\n",
    "        self.after = after\n",
    "        self.mode = mode\n",
    "        self.state_dict = {}\n",
    "        \n",
    "    def add_data(self, seq, result):\n",
    "        \"\"\"Add one (current state -> next state) instance to the dictionary.\n",
    "        Store each instance as a tally, to be normalized later.\n",
    "        \n",
    "        Inputs:\n",
    "        seq - if mode = 0, seq is a tuple of length before\n",
    "              if mode = 1, seq is a tuple of length after\n",
    "              if mode = 2, seq is a list of length two, with first element\n",
    "                           a tuple of length before and with second element\n",
    "                           a tuple of length after\n",
    "        result - int - single event\n",
    "        \n",
    "        Outputs:\n",
    "        None\n",
    "        \"\"\"\n",
    "        \n",
    "        if self.mode == 0:\n",
    "            assert isinstance(seq, tuple) and len(seq) == self.before\n",
    "        elif self.mode == 1:\n",
    "            assert isinstance(seq, tuple) and len(seq) == self.after\n",
    "        else:\n",
    "            assert (isinstance(seq, list) and len(seq) == 2 and\n",
    "                    isinstance(seq[0], tuple) and len(seq[0]) == self.before and\n",
    "                    isinstance(seq[1], tuple) and len(seq[1]) == self.after)\n",
    "            \n",
    "        if seq not in self.state_dict:\n",
    "            self.state_dict[seq] = {result: 1}\n",
    "        elif result in self.state_dict[seq]:\n",
    "            self.state_dict[seq][result] += 1\n",
    "        else:\n",
    "            self.state_dict[seq][result] = 1\n",
    "            \n",
    "    def normalize(self):\n",
    "        \"\"\"Convert the state_dict dictionary from counts to probabilities.\n",
    "        \n",
    "        Inputs: None\n",
    "        \n",
    "        Outputs: None\n",
    "        \"\"\"\n",
    "        \n",
    "        for seq in self.state_dict:\n",
    "            sum = 0\n",
    "            if len(self.state_dict[seq]) == 1:\n",
    "                continue\n",
    "            for result in self.state_dict[seq]:\n",
    "                sum += self.state_dict[seq][result]\n",
    "            for result in self.state_dict[seq]:\n",
    "                self.state_dict[seq][result] /= float(sum)\n",
    "        \n",
    "            "
   ]
  },
  {
   "cell_type": "markdown",
   "metadata": {},
   "source": [
    "Now to test!"
   ]
  },
  {
   "cell_type": "code",
   "execution_count": 34,
   "metadata": {
    "collapsed": false
   },
   "outputs": [],
   "source": [
    "markov0 = Markov(1, 0, 0)\n",
    "melody0 = all_melodies[0]\n",
    "for i in range(len(melody0) - 1):\n",
    "    markov0.add_data((melody0[i],), melody0[i + 1])\n",
    "markov0.normalize()"
   ]
  },
  {
   "cell_type": "code",
   "execution_count": 35,
   "metadata": {
    "collapsed": false
   },
   "outputs": [
    {
     "name": "stdout",
     "output_type": "stream",
     "text": [
      "{(58,): {60: 1}, (65,): {58: 1}, (60,): {62: 1}, (72,): {73: 1}, (73,): {68: 0.2, 75: 0.2, 76: 0.2, 78: 0.2, 65: 0.2}, (68,): {73: 0.3333333333333333, 70: 0.3333333333333333, 71: 0.3333333333333333}, (75,): {68: 1}, (70,): {73: 0.5, 76: 0.25, 70: 0.25}, (76,): {68: 3}, (71,): {68: 0.5, 76: 0.5}, (78,): {70: 1}}\n"
     ]
    }
   ],
   "source": [
    "print markov0.state_dict"
   ]
  },
  {
   "cell_type": "code",
   "execution_count": 36,
   "metadata": {
    "collapsed": false
   },
   "outputs": [
    {
     "name": "stdout",
     "output_type": "stream",
     "text": [
      "[72, 73, 75, 68, 73, 76, 68, 73, 68, 71, 76, 68, 71, 68, 70, 76, 68, 70, 70, 73, 78, 70, 73, 65, 58, 60, 62]\n"
     ]
    }
   ],
   "source": [
    "print melody0"
   ]
  },
  {
   "cell_type": "markdown",
   "metadata": {},
   "source": [
    "Yay, this handles traditional (order 1) Markov models perfectly!"
   ]
  },
  {
   "cell_type": "code",
   "execution_count": 37,
   "metadata": {
    "collapsed": false
   },
   "outputs": [
    {
     "ename": "AssertionError",
     "evalue": "",
     "output_type": "error",
     "traceback": [
      "\u001b[0;31m---------------------------------------------------------------------------\u001b[0m",
      "\u001b[0;31mAssertionError\u001b[0m                            Traceback (most recent call last)",
      "\u001b[0;32m<ipython-input-37-4a18bdb5103b>\u001b[0m in \u001b[0;36m<module>\u001b[0;34m()\u001b[0m\n\u001b[1;32m      2\u001b[0m \u001b[0mmelody2\u001b[0m \u001b[0;34m=\u001b[0m \u001b[0mall_melodies\u001b[0m\u001b[0;34m[\u001b[0m\u001b[0;36m2\u001b[0m\u001b[0;34m]\u001b[0m\u001b[0;34m\u001b[0m\u001b[0m\n\u001b[1;32m      3\u001b[0m \u001b[0;32mfor\u001b[0m \u001b[0mi\u001b[0m \u001b[0;32min\u001b[0m \u001b[0mrange\u001b[0m\u001b[0;34m(\u001b[0m\u001b[0mlen\u001b[0m\u001b[0;34m(\u001b[0m\u001b[0mmelody2\u001b[0m\u001b[0;34m)\u001b[0m \u001b[0;34m-\u001b[0m \u001b[0;36m1\u001b[0m\u001b[0;34m)\u001b[0m\u001b[0;34m:\u001b[0m\u001b[0;34m\u001b[0m\u001b[0m\n\u001b[0;32m----> 4\u001b[0;31m     \u001b[0mmarkov0\u001b[0m\u001b[0;34m.\u001b[0m\u001b[0madd_data\u001b[0m\u001b[0;34m(\u001b[0m\u001b[0;34m(\u001b[0m\u001b[0mmelody2\u001b[0m\u001b[0;34m[\u001b[0m\u001b[0mi\u001b[0m\u001b[0;34m]\u001b[0m\u001b[0;34m)\u001b[0m\u001b[0;34m,\u001b[0m \u001b[0mmelody2\u001b[0m\u001b[0;34m[\u001b[0m\u001b[0mi\u001b[0m \u001b[0;34m+\u001b[0m \u001b[0;36m1\u001b[0m\u001b[0;34m]\u001b[0m\u001b[0;34m)\u001b[0m\u001b[0;34m\u001b[0m\u001b[0m\n\u001b[0m\u001b[1;32m      5\u001b[0m \u001b[0mmarkov0\u001b[0m\u001b[0;34m.\u001b[0m\u001b[0mnormalize\u001b[0m\u001b[0;34m(\u001b[0m\u001b[0;34m)\u001b[0m\u001b[0;34m\u001b[0m\u001b[0m\n",
      "\u001b[0;32m<ipython-input-20-9d704b0da4f2>\u001b[0m in \u001b[0;36madd_data\u001b[0;34m(self, seq, result)\u001b[0m\n\u001b[1;32m     49\u001b[0m \u001b[0;34m\u001b[0m\u001b[0m\n\u001b[1;32m     50\u001b[0m         \u001b[0;32mif\u001b[0m \u001b[0mself\u001b[0m\u001b[0;34m.\u001b[0m\u001b[0mmode\u001b[0m \u001b[0;34m==\u001b[0m \u001b[0;36m0\u001b[0m\u001b[0;34m:\u001b[0m\u001b[0;34m\u001b[0m\u001b[0m\n\u001b[0;32m---> 51\u001b[0;31m             \u001b[0;32massert\u001b[0m \u001b[0misinstance\u001b[0m\u001b[0;34m(\u001b[0m\u001b[0mseq\u001b[0m\u001b[0;34m,\u001b[0m \u001b[0mtuple\u001b[0m\u001b[0;34m)\u001b[0m \u001b[0;32mand\u001b[0m \u001b[0mlen\u001b[0m\u001b[0;34m(\u001b[0m\u001b[0mseq\u001b[0m\u001b[0;34m)\u001b[0m \u001b[0;34m==\u001b[0m \u001b[0mself\u001b[0m\u001b[0;34m.\u001b[0m\u001b[0mbefore\u001b[0m\u001b[0;34m\u001b[0m\u001b[0m\n\u001b[0m\u001b[1;32m     52\u001b[0m         \u001b[0;32melif\u001b[0m \u001b[0mself\u001b[0m\u001b[0;34m.\u001b[0m\u001b[0mmode\u001b[0m \u001b[0;34m==\u001b[0m \u001b[0;36m1\u001b[0m\u001b[0;34m:\u001b[0m\u001b[0;34m\u001b[0m\u001b[0m\n\u001b[1;32m     53\u001b[0m             \u001b[0;32massert\u001b[0m \u001b[0misinstance\u001b[0m\u001b[0;34m(\u001b[0m\u001b[0mseq\u001b[0m\u001b[0;34m,\u001b[0m \u001b[0mtuple\u001b[0m\u001b[0;34m)\u001b[0m \u001b[0;32mand\u001b[0m \u001b[0mlen\u001b[0m\u001b[0;34m(\u001b[0m\u001b[0mseq\u001b[0m\u001b[0;34m)\u001b[0m \u001b[0;34m==\u001b[0m \u001b[0mself\u001b[0m\u001b[0;34m.\u001b[0m\u001b[0mafter\u001b[0m\u001b[0;34m\u001b[0m\u001b[0m\n",
      "\u001b[0;31mAssertionError\u001b[0m: "
     ]
    }
   ],
   "source": [
    "markov0 = Markov(1, 0, 0)\n",
    "melody2 = all_melodies[2]\n",
    "for i in range(len(melody2) - 1):\n",
    "    markov0.add_data((melody2[i]), melody2[i + 1])\n",
    "markov0.normalize()"
   ]
  },
  {
   "cell_type": "markdown",
   "metadata": {},
   "source": [
    "It seems as though the chords (shown below as inner lists) give us a bit of an issue, though."
   ]
  },
  {
   "cell_type": "code",
   "execution_count": 38,
   "metadata": {
    "collapsed": false
   },
   "outputs": [
    {
     "name": "stdout",
     "output_type": "stream",
     "text": [
      "[61, 59, 58, 54, 56, 60, 58, 60, 49, 61, 47, 46, 42, 44, 60, 51, 58, 60, 51, 58, 60, 61, 49, [49, 59], [42, 58], [56, 68], [58, 70], [72, 60], [75, 63], [67, 79], [80, 68], [66, 78], [80, 68], [66, 78], [80, 63], 65, 72, 74, 72, 71, 69, [66, 67], 63, 77, 65, 74, 70, 66, 68, [80, 75], 72, 82, 77, 58, 53, [58, 53], 82, 77, [58, 53], 53, 58, 82, 77, 53, 58, 53, 58, 77, 82, 53, 58, [58, 53], 65, 67, 69, 70, 71, 72, 68, 70, 72, 73, 74, 75, 68, 70, 72, 73, 75, 77, 68, 70, 72, 73, 75, [77, 62], 53, 60, 62, 53, 60, 62, 63, 51, [51, 61], [60, 44], [58, 70], [72, 60], [74, 62], [65, 77], [81, 69], [82, 70], [80, 68], [82, 70], [80, 68], [58, 66, 54, 70], [66, 58, 70, 54], [58, 70, 66, 54], [58, 70, 66, 54], 65, 77, 75, 63, 73, 61, 72, 60, 58, 70, 56, 68, [82, 70], [72, 84], [74, 86], [64, 76], [65, 77], [67, 79], [67, 79], [65, 77], [67, 79], [80, 68], [67, 79], [65, 77], [80, 68], [67, 79], [65, 77], [64, 76], [64, 76], [67, 79], [65, 77], [67, 79], [80, 68], [82, 70], [67, 79], [80, 68], [65, 77], [82, 70], [72, 84], [82, 70], [72, 84], [82, 70], [72, 84], [82, 70], [72, 84], [82, 70], 75, 80, 72, 76, 79, 84]\n"
     ]
    }
   ],
   "source": [
    "print melody2"
   ]
  }
 ],
 "metadata": {
  "kernelspec": {
   "display_name": "Python 2",
   "language": "python",
   "name": "python2"
  },
  "language_info": {
   "codemirror_mode": {
    "name": "ipython",
    "version": 2
   },
   "file_extension": ".py",
   "mimetype": "text/x-python",
   "name": "python",
   "nbconvert_exporter": "python",
   "pygments_lexer": "ipython2",
   "version": "2.7.10"
  }
 },
 "nbformat": 4,
 "nbformat_minor": 0
}
