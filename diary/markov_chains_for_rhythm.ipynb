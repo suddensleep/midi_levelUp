{
 "cells": [
  {
   "cell_type": "markdown",
   "metadata": {},
   "source": [
    "#Markov Chains for Rhythm "
   ]
  },
  {
   "cell_type": "markdown",
   "metadata": {},
   "source": [
    "We will proceed much in the way we did with the melodic sequences. Let's go!"
   ]
  },
  {
   "cell_type": "code",
   "execution_count": 21,
   "metadata": {
    "collapsed": true
   },
   "outputs": [],
   "source": [
    "import pickle"
   ]
  },
  {
   "cell_type": "code",
   "execution_count": 22,
   "metadata": {
    "collapsed": true
   },
   "outputs": [],
   "source": [
    "class Markov(object):\n",
    "    \"\"\"A container for holding Markov chains of various orders, \n",
    "    where the events in the given 'current state' may occur temporally \n",
    "    before and/or after the note to be examined as the 'next state'.\n",
    "    \"\"\"\n",
    "    \n",
    "    def __init__(self, before = 0, after = 0, mode = 0):\n",
    "        \"\"\"Initialize a Markov object with `before` notes before the\n",
    "        space to be filled, `after` notes after the space to be filled,\n",
    "        and with `mode` equal to 0, 1 or 2 according to whether the 'current\n",
    "        state' contains notes only before, only after, or both before and after\n",
    "        the note to be filled in the 'next state'.\n",
    "        \n",
    "        Inputs: \n",
    "        before - int - number of notes before next state\n",
    "        after - int - number of notes after next state\n",
    "        mode - int in range(3) - mode of the chain(see above)\n",
    "        \n",
    "        Outputs - Markov object\n",
    "        \"\"\"\n",
    "        \n",
    "        if mode == 0:\n",
    "            assert before != 0 and after == 0\n",
    "        elif mode == 1:\n",
    "            assert before == 0 and after != 0\n",
    "        else:\n",
    "            assert before != 0 and after != 0\n",
    "\n",
    "        self.before = before\n",
    "        self.after = after\n",
    "        self.mode = mode\n",
    "        self.state_dict = {}\n",
    "        \n",
    "    def add_data(self, seq, result):\n",
    "        \"\"\"Add one (current state -> next state) instance to the dictionary.\n",
    "        Store each instance as a tally, to be normalized later.\n",
    "        \n",
    "        Inputs:\n",
    "        seq - if mode = 0, seq is a tuple of length before\n",
    "              if mode = 1, seq is a tuple of length after\n",
    "              if mode = 2, seq is a list of length two, with first element\n",
    "                           a tuple of length before and with second element\n",
    "                           a tuple of length after\n",
    "        result - int - single event\n",
    "        \n",
    "        Outputs:\n",
    "        None\n",
    "        \"\"\"\n",
    "        \n",
    "        if self.mode == 0:\n",
    "            assert isinstance(seq, tuple) and len(seq) == self.before\n",
    "        elif self.mode == 1:\n",
    "            assert isinstance(seq, tuple) and len(seq) == self.after\n",
    "        else:\n",
    "            assert (isinstance(seq, tuple) and len(seq) == 2 and\n",
    "                    isinstance(seq[0], tuple) and len(seq[0]) == self.before and\n",
    "                    isinstance(seq[1], tuple) and len(seq[1]) == self.after)\n",
    "            \n",
    "        if seq not in self.state_dict:\n",
    "            self.state_dict[seq] = {result: 1}\n",
    "        elif result in self.state_dict[seq]:\n",
    "            self.state_dict[seq][result] += 1\n",
    "        else:\n",
    "            self.state_dict[seq][result] = 1\n",
    "            \n",
    "    def normalize(self):\n",
    "        \"\"\"Convert the state_dict dictionary from counts to probabilities.\n",
    "        \n",
    "        Inputs: None\n",
    "        \n",
    "        Outputs: None\n",
    "        \"\"\"\n",
    "        \n",
    "        for seq in self.state_dict:\n",
    "            sum = 0\n",
    "            for result in self.state_dict[seq]:\n",
    "                sum += self.state_dict[seq][result]\n",
    "            for result in self.state_dict[seq]:\n",
    "                self.state_dict[seq][result] /= float(sum)"
   ]
  },
  {
   "cell_type": "markdown",
   "metadata": {},
   "source": [
    "Since we've gotten rid of all concurrent rhythmic tick events, we won't have to deal with breaking up chords like we did with the melodic sequences. However, since we want the rhythmic events to be time-invariant (i.e. it doesn't matter WHEN in the file they occur), we will 'recenter' all of the data as we did with the longer melodic chains."
   ]
  },
  {
   "cell_type": "code",
   "execution_count": 33,
   "metadata": {
    "collapsed": true
   },
   "outputs": [],
   "source": [
    "def iterate_rhythm(rhy, mark):\n",
    "    \"\"\"Adds one new observation to the Markov chain training process.\n",
    "    \n",
    "    Inputs: \n",
    "    mel - a list of lists representing a rhythm sequence\n",
    "    mark - a Markov object\n",
    "    \n",
    "    Outputs:\n",
    "    None (instead adds data to markov object directly)\n",
    "    \"\"\"\n",
    "    before, after = mark.before, mark.after\n",
    "    full_length = before + after + 1\n",
    "    \n",
    "    for i in range(len(rhy) - full_length):\n",
    "        seq = rhy[i:i + full_length]\n",
    "        before_seq, after_seq, val = seq[:before], seq[-after:], seq[before]\n",
    "        before_seq, after_seq, val = recenter(before_seq, after_seq, val)\n",
    "        mode = mark.mode\n",
    "        if mode == 0:\n",
    "            mark.add_data(before_seq, val)\n",
    "        elif mode == 1:\n",
    "            mark.add_data(after_seq, val)\n",
    "        else:\n",
    "            mark.add_data((before_seq, after_seq), val)\n",
    "            \n",
    "def recenter(before, after, val):\n",
    "    \"\"\"Recenters sequence(s) so that the first note valued encountered is 0 and every other\n",
    "    note value is relative to the first.\n",
    "    \n",
    "    Ex: before = [45, 47], after = [44, 45], val = 40 returns ([0, 2], [-1, 0], -5)\n",
    "        before = [], after = [100, 100, 99], val = 100 returns ([], [0, 0, -1], 0)\n",
    "        \n",
    "    Inputs: before and after are lists of note values with combined length at least 3,\n",
    "            val is a note value\n",
    "    \n",
    "    Outputs: Tuple of length 3 of the scaled before, after, and val note values.\n",
    "    \"\"\"\n",
    "    \n",
    "    if len(before) == 0:\n",
    "        to_subtract = after[0]\n",
    "    else:\n",
    "        to_subtract = before[0]\n",
    "    return (tuple(map(lambda x: round(x - to_subtract, 4), before)), \n",
    "            tuple(map(lambda x: round(x - to_subtract, 4), after)), \n",
    "            round(val - to_subtract, 4))"
   ]
  },
  {
   "cell_type": "markdown",
   "metadata": {},
   "source": [
    "Let's try building a smaller-order chain on the level 1 quantized rhythm sequences as a test."
   ]
  },
  {
   "cell_type": "code",
   "execution_count": 24,
   "metadata": {
    "collapsed": true
   },
   "outputs": [],
   "source": [
    "with open('../all_rhythms_level_1.pkl', 'r') as f:\n",
    "    all_rhythms_level_1 = pickle.load(f)"
   ]
  },
  {
   "cell_type": "code",
   "execution_count": null,
   "metadata": {
    "collapsed": false
   },
   "outputs": [],
   "source": [
    "mark = Markov(1, 1, 2)\n",
    "for k in range(len(all_rhythms_level_1)):\n",
    "    iterate_rhythm(all_rhythms_level_1[k], mark)\n",
    "mark.normalize()\n",
    "with open('../markov_models/markov_rhythm_level_1_112.pkl', 'w') as f:\n",
    "    pickle.dump(mark, f)"
   ]
  },
  {
   "cell_type": "code",
   "execution_count": 31,
   "metadata": {
    "collapsed": false
   },
   "outputs": [
    {
     "name": "stdout",
     "output_type": "stream",
     "text": [
      "{0.75: 0.030659787604253117, 0.5: 0.8656840672853778, 0.8333: 0.0009844773277688334, 0.25: 0.02448856655622897, 0.4167: 0.003231656977185117, 0.5833: 0.0033430336491894856, 0.3334: 0.00037443363662168985, 0.6667: 0.03662082310394217, 0.3333: 0.03249945286751593, 0.6666: 0.0006016651606980471, 0.9167: 0.00025641192322665876, 0.0833: 0.000320117646124099, 0.1667: 0.0009355062618680801}\n"
     ]
    }
   ],
   "source": [
    "print mark.state_dict[(0.0,), (1.0,)]"
   ]
  },
  {
   "cell_type": "markdown",
   "metadata": {},
   "source": [
    "Awesome! This is MUCH more compact than the alternative (912 KB for this one pickle file).\n",
    "\n",
    "On to making each of the models!"
   ]
  },
  {
   "cell_type": "code",
   "execution_count": null,
   "metadata": {
    "collapsed": false
   },
   "outputs": [],
   "source": [
    "for before in range(4):\n",
    "    for after in range(4):\n",
    "        if before + after > 4:\n",
    "            continue\n",
    "        if before == 0:\n",
    "            if after == 0:\n",
    "                continue\n",
    "            mode = 1\n",
    "        elif after == 0:\n",
    "            mode = 0\n",
    "        else:\n",
    "            mode = 2\n",
    "        mark = Markov(before, after, mode)\n",
    "        for k in range(len(all_rhythms_level_1)):\n",
    "            iterate_rhythm(all_rhythms_level_1[k], mark)\n",
    "        mark.normalize()\n",
    "        with open('../markov_models/markov_rhythm_level_1_' + str(before) + str(after) + str(mode) + '.pkl', 'w') as f:\n",
    "            pickle.dump(mark, f)"
   ]
  },
  {
   "cell_type": "code",
   "execution_count": null,
   "metadata": {
    "collapsed": false
   },
   "outputs": [],
   "source": [
    "for before in range(4):\n",
    "    for after in range(4):\n",
    "        if before + after > 4:\n",
    "            continue\n",
    "        if before == 0:\n",
    "            if after == 0:\n",
    "                continue\n",
    "            mode = 1\n",
    "        elif after == 0:\n",
    "            mode = 0\n",
    "        else:\n",
    "            mode = 2\n",
    "        mark = Markov(before, after, mode)\n",
    "        for k in range(len(all_rhythms_level_2)):\n",
    "            iterate_rhythm(all_rhythms_level_2[k], mark)\n",
    "            if k % 1000 == 0:\n",
    "                print k\n",
    "        mark.normalize()\n",
    "        with open('../markov_models/markov_rhythm_level_2_' + str(before) + str(after) + str(mode) + '.pkl', 'w') as f:\n",
    "            pickle.dump(mark, f)\n",
    "        print before, after"
   ]
  },
  {
   "cell_type": "code",
   "execution_count": null,
   "metadata": {
    "collapsed": false
   },
   "outputs": [],
   "source": [
    "for before in range(4):\n",
    "    for after in range(4):\n",
    "        if before + after > 4:\n",
    "            continue\n",
    "        if before == 0:\n",
    "            if after == 0:\n",
    "                continue\n",
    "            mode = 1\n",
    "        elif after == 0:\n",
    "            mode = 0\n",
    "        else:\n",
    "            mode = 2\n",
    "        mark = Markov(before, after, mode)\n",
    "        for k in range(len(all_rhythms_level_3)):\n",
    "            iterate_rhythm(all_rhythms_level_3[k], mark)\n",
    "            if k % 1000 == 0:\n",
    "                print k\n",
    "        mark.normalize()\n",
    "        with open('../markov_models/markov_rhythm_level_3_' + str(before) + str(after) + str(mode) + '.pkl', 'w') as f:\n",
    "            pickle.dump(mark, f)\n",
    "        print before, after"
   ]
  },
  {
   "cell_type": "markdown",
   "metadata": {},
   "source": [
    "We now have three sets of Markov Chains at different levels of granularity."
   ]
  }
 ],
 "metadata": {
  "kernelspec": {
   "display_name": "Python 2",
   "language": "python",
   "name": "python2"
  },
  "language_info": {
   "codemirror_mode": {
    "name": "ipython",
    "version": 2
   },
   "file_extension": ".py",
   "mimetype": "text/x-python",
   "name": "python",
   "nbconvert_exporter": "python",
   "pygments_lexer": "ipython2",
   "version": "2.7.10"
  }
 },
 "nbformat": 4,
 "nbformat_minor": 0
}
