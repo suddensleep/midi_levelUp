{
 "cells": [
  {
   "cell_type": "markdown",
   "metadata": {},
   "source": [
    "# Making Markov Chains of Various Types"
   ]
  },
  {
   "cell_type": "markdown",
   "metadata": {},
   "source": [
    "First we'll load the full list of pickled sequences *(this may take a moment or two)*."
   ]
  },
  {
   "cell_type": "code",
   "execution_count": 1,
   "metadata": {
    "collapsed": true
   },
   "outputs": [],
   "source": [
    "import pickle"
   ]
  },
  {
   "cell_type": "code",
   "execution_count": 2,
   "metadata": {
    "collapsed": false
   },
   "outputs": [],
   "source": [
    "with open('all_melodies.pkl', 'r') as f:\n",
    "    all_melodies = pickle.load(f)\n",
    "with open('all_rhythms.pkl', 'r') as g:\n",
    "    all_rhythms = pickle.load(g)"
   ]
  },
  {
   "cell_type": "code",
   "execution_count": 3,
   "metadata": {
    "collapsed": false
   },
   "outputs": [],
   "source": [
    "assert len(all_melodies) == len(all_rhythms)"
   ]
  },
  {
   "cell_type": "markdown",
   "metadata": {},
   "source": [
    "Next, we'll define a **Markov** object that will store Markov chain information for chains of various orders and types."
   ]
  },
  {
   "cell_type": "code",
   "execution_count": 4,
   "metadata": {
    "collapsed": false
   },
   "outputs": [],
   "source": [
    "class Markov(object):\n",
    "    \"\"\"A container for holding Markov chains of various orders, \n",
    "    where the events in the given 'current state' may occur temporally \n",
    "    before and/or after the note to be examined as the 'next state'.\n",
    "    \"\"\"\n",
    "    \n",
    "    def __init__(self, before = 0, after = 0, mode = 0):\n",
    "        \"\"\"Initialize a Markov object with `before` notes before the\n",
    "        space to be filled, `after` notes after the space to be filled,\n",
    "        and with `mode` equal to 0, 1 or 2 according to whether the 'current\n",
    "        state' contains notes only before, only after, or both before and after\n",
    "        the note to be filled in the 'next state'.\n",
    "        \n",
    "        Inputs: \n",
    "        before - int - number of notes before next state\n",
    "        after - int - number of notes after next state\n",
    "        mode - int in range(3) - mode of the chain(see above)\n",
    "        \n",
    "        Outputs - Markov object\n",
    "        \"\"\"\n",
    "        \n",
    "        if mode == 0:\n",
    "            assert before != 0 and after == 0\n",
    "        elif mode == 1:\n",
    "            assert before == 0 and after != 0\n",
    "        else:\n",
    "            assert before != 0 and after != 0\n",
    "\n",
    "        self.before = before\n",
    "        self.after = after\n",
    "        self.mode = mode\n",
    "        self.state_dict = {}\n",
    "        \n",
    "    def add_data(self, seq, result):\n",
    "        \"\"\"Add one (current state -> next state) instance to the dictionary.\n",
    "        Store each instance as a tally, to be normalized later.\n",
    "        \n",
    "        Inputs:\n",
    "        seq - if mode = 0, seq is a tuple of length before\n",
    "              if mode = 1, seq is a tuple of length after\n",
    "              if mode = 2, seq is a list of length two, with first element\n",
    "                           a tuple of length before and with second element\n",
    "                           a tuple of length after\n",
    "        result - int - single event\n",
    "        \n",
    "        Outputs:\n",
    "        None\n",
    "        \"\"\"\n",
    "        \n",
    "        if self.mode == 0:\n",
    "            assert isinstance(seq, tuple) and len(seq) == self.before\n",
    "        elif self.mode == 1:\n",
    "            assert isinstance(seq, tuple) and len(seq) == self.after\n",
    "        else:\n",
    "            assert (isinstance(seq, tuple) and len(seq) == 2 and\n",
    "                    isinstance(seq[0], tuple) and len(seq[0]) == self.before and\n",
    "                    isinstance(seq[1], tuple) and len(seq[1]) == self.after)\n",
    "            \n",
    "        if seq not in self.state_dict:\n",
    "            self.state_dict[seq] = {result: 1}\n",
    "        elif result in self.state_dict[seq]:\n",
    "            self.state_dict[seq][result] += 1\n",
    "        else:\n",
    "            self.state_dict[seq][result] = 1\n",
    "            \n",
    "    def normalize(self):\n",
    "        \"\"\"Convert the state_dict dictionary from counts to probabilities.\n",
    "        \n",
    "        Inputs: None\n",
    "        \n",
    "        Outputs: None\n",
    "        \"\"\"\n",
    "        \n",
    "        for seq in self.state_dict:\n",
    "            sum = 0\n",
    "            for result in self.state_dict[seq]:\n",
    "                sum += self.state_dict[seq][result]\n",
    "            for result in self.state_dict[seq]:\n",
    "                self.state_dict[seq][result] /= float(sum)\n",
    "        \n",
    "            "
   ]
  },
  {
   "cell_type": "markdown",
   "metadata": {},
   "source": [
    "For our purposes, we want to consider chords as representing all N notes in the chord equally. For example, if a chord of three simultaneous note occurs as a 'next state', we will count each of the three component notes of that chord as equally likely to occur after the given 'current state'. \n",
    "\n",
    "In order to use `itertools.product` on the slice of the sequence we are looking for, we'll convert *all* the integer events to singleton lists."
   ]
  },
  {
   "cell_type": "code",
   "execution_count": 7,
   "metadata": {
    "collapsed": true
   },
   "outputs": [],
   "source": [
    "for melody in all_melodies:\n",
    "    for i in range(len(melody)):\n",
    "        if isinstance(melody[i], int):\n",
    "            melody[i] = [melody[i]]"
   ]
  },
  {
   "cell_type": "code",
   "execution_count": 8,
   "metadata": {
    "collapsed": false
   },
   "outputs": [
    {
     "name": "stdout",
     "output_type": "stream",
     "text": [
      "[[72], [73], [75], [68], [73], [76], [68], [73], [68], [71], [76], [68], [71], [68], [70], [76], [68], [70], [70], [73], [78], [70], [73], [65], [58], [60], [62]]\n"
     ]
    }
   ],
   "source": [
    "print all_melodies[0]"
   ]
  },
  {
   "cell_type": "markdown",
   "metadata": {},
   "source": [
    "This is the main function used to actually extract current and next states from a raw sequence."
   ]
  },
  {
   "cell_type": "code",
   "execution_count": 9,
   "metadata": {
    "collapsed": false
   },
   "outputs": [],
   "source": [
    "import itertools\n",
    "\n",
    "def iterate_melody(mel, mark, before, after):\n",
    "    \"\"\"Adds one new observation to the Markov chain training process.\n",
    "    \n",
    "    Inputs: \n",
    "    mel - a list of lists representing a melody sequence\n",
    "    mark - a Markov object\n",
    "    before - integer, how many notes before next state\n",
    "    after - integer, how many notes after next state\n",
    "    \n",
    "    Outputs:\n",
    "    None (instead adds data to markov object directly)\n",
    "    \"\"\"\n",
    "    \n",
    "    full_length = before + after + 1\n",
    "    for i in range(len(mel) - full_length):\n",
    "        for seq in itertools.product(*mel[i:i + full_length]):\n",
    "            before_seq, after_seq, val = seq[:before], seq[-after:], seq[before]\n",
    "            mode = mark.mode\n",
    "            if mode == 0:\n",
    "                mark.add_data(before_seq, val)\n",
    "            elif mode == 1:\n",
    "                mark.add_data(after_seq, val)\n",
    "            else:\n",
    "                mark.add_data((before_seq, after_seq), val)"
   ]
  },
  {
   "cell_type": "markdown",
   "metadata": {},
   "source": [
    "Here is the general implementation for turning a sequence into a Markov dictionary:\n",
    "\n",
    "1. Create Markov object with the desired tail lengths\n",
    "2. Call iterate_melody on the sequence\n",
    "3. Normalize the Markov dictionaries"
   ]
  },
  {
   "cell_type": "code",
   "execution_count": 12,
   "metadata": {
    "collapsed": false
   },
   "outputs": [
    {
     "name": "stdout",
     "output_type": "stream",
     "text": [
      "{(58,): {60: 1.0}, (65,): {58: 1.0}, (72,): {73: 1.0}, (73,): {68: 0.2, 75: 0.2, 76: 0.2, 78: 0.2, 65: 0.2}, (68,): {73: 0.3333333333333333, 70: 0.3333333333333333, 71: 0.3333333333333333}, (75,): {68: 1.0}, (70,): {73: 0.5, 76: 0.25, 70: 0.25}, (76,): {68: 1.0}, (71,): {68: 0.5, 76: 0.5}, (78,): {70: 1.0}}\n"
     ]
    }
   ],
   "source": [
    "markov = Markov(1, 0, 0)\n",
    "iterate_melody(all_melodies[0], markov, before = 1, after = 0)\n",
    "markov.normalize()\n",
    "print markov.state_dict"
   ]
  },
  {
   "cell_type": "code",
   "execution_count": 13,
   "metadata": {
    "collapsed": false
   },
   "outputs": [
    {
     "name": "stdout",
     "output_type": "stream",
     "text": [
      "{(71, 68): {70: 1.0}, (68, 71): {68: 0.5, 76: 0.5}, (76, 68): {73: 0.3333333333333333, 70: 0.3333333333333333, 71: 0.3333333333333333}, (68, 73): {68: 0.5, 76: 0.5}, (68, 70): {76: 0.5, 70: 0.5}, (70, 70): {73: 1.0}, (71, 76): {68: 1.0}, (70, 73): {65: 0.5, 78: 0.5}, (78, 70): {73: 1.0}, (72, 73): {75: 1.0}, (65, 58): {60: 1.0}, (73, 75): {68: 1.0}, (73, 68): {71: 1.0}, (70, 76): {68: 1.0}, (75, 68): {73: 1.0}, (73, 78): {70: 1.0}, (73, 76): {68: 1.0}, (73, 65): {58: 1.0}}\n"
     ]
    }
   ],
   "source": [
    "markov = Markov(2, 0, 0)\n",
    "iterate_melody(all_melodies[0], markov, before = 2, after = 0)\n",
    "markov.normalize()\n",
    "print markov.state_dict"
   ]
  },
  {
   "cell_type": "markdown",
   "metadata": {},
   "source": [
    "Sanity check:"
   ]
  },
  {
   "cell_type": "code",
   "execution_count": 14,
   "metadata": {
    "collapsed": false
   },
   "outputs": [
    {
     "name": "stdout",
     "output_type": "stream",
     "text": [
      "[[72], [73], [75], [68], [73], [76], [68], [73], [68], [71], [76], [68], [71], [68], [70], [76], [68], [70], [70], [73], [78], [70], [73], [65], [58], [60], [62]]\n"
     ]
    }
   ],
   "source": [
    "print all_melodies[0]"
   ]
  },
  {
   "cell_type": "markdown",
   "metadata": {},
   "source": [
    "The counts seem to be right (but certainly check them yourselves if you don't believe me!)."
   ]
  },
  {
   "cell_type": "markdown",
   "metadata": {},
   "source": [
    "Testing out all different modes:"
   ]
  },
  {
   "cell_type": "code",
   "execution_count": 16,
   "metadata": {
    "collapsed": false
   },
   "outputs": [
    {
     "name": "stdout",
     "output_type": "stream",
     "text": [
      "{(58,): {65: 1.0}, (65,): {73: 1.0}, (60,): {58: 1.0}, (73,): {72: 0.2, 68: 0.4, 70: 0.4}, (68,): {73: 0.16666666666666666, 75: 0.16666666666666666, 76: 0.5, 71: 0.16666666666666666}, (75,): {73: 1.0}, (70,): {68: 0.5, 78: 0.25, 70: 0.25}, (76,): {73: 0.3333333333333333, 70: 0.3333333333333333, 71: 0.3333333333333333}, (71,): {68: 1.0}, (78,): {73: 1.0}}\n"
     ]
    }
   ],
   "source": [
    "markov = Markov(0, 1, 1)\n",
    "iterate_melody(all_melodies[0], markov, before = 0, after = 1)\n",
    "markov.normalize()\n",
    "print markov.state_dict"
   ]
  },
  {
   "cell_type": "code",
   "execution_count": 17,
   "metadata": {
    "collapsed": false
   },
   "outputs": [
    {
     "name": "stdout",
     "output_type": "stream",
     "text": [
      "{((75, 68), (76, 68)): {73: 1.0}, ((73, 78), (73, 65)): {70: 1.0}, ((70, 76), (70, 70)): {68: 1.0}, ((68, 73), (71, 76)): {68: 1.0}, ((71, 68), (76, 68)): {70: 1.0}, ((73, 76), (73, 68)): {68: 1.0}, ((71, 76), (71, 68)): {68: 1.0}, ((72, 73), (68, 73)): {75: 1.0}, ((76, 68), (68, 71)): {73: 1.0}, ((76, 68), (70, 73)): {70: 1.0}, ((78, 70), (65, 58)): {73: 1.0}, ((68, 71), (70, 76)): {68: 1.0}, ((68, 71), (68, 71)): {76: 1.0}, ((73, 75), (73, 76)): {68: 1.0}, ((70, 73), (70, 73)): {78: 1.0}, ((70, 70), (78, 70)): {73: 1.0}, ((68, 70), (73, 78)): {70: 1.0}, ((68, 70), (68, 70)): {76: 1.0}, ((68, 73), (68, 73)): {76: 1.0}, ((76, 68), (68, 70)): {71: 1.0}, ((73, 68), (76, 68)): {71: 1.0}, ((70, 73), (58, 60)): {65: 1.0}}\n"
     ]
    }
   ],
   "source": [
    "markov = Markov(2, 2, 2)\n",
    "iterate_melody(all_melodies[0], markov, before = 2, after = 2)\n",
    "markov.normalize()\n",
    "print markov.state_dict"
   ]
  },
  {
   "cell_type": "markdown",
   "metadata": {},
   "source": [
    "This seems to work pretty well for melodies! "
   ]
  },
  {
   "cell_type": "code",
   "execution_count": 15,
   "metadata": {
    "collapsed": true
   },
   "outputs": [],
   "source": [
    "with open('all_melodies.pkl', 'w') as f:\n",
    "    pickle.dump(all_melodies, f)"
   ]
  },
  {
   "cell_type": "markdown",
   "metadata": {},
   "source": [
    "Let's see what happens when we train a Markov chain on ALL the melodies in our corpus."
   ]
  },
  {
   "cell_type": "code",
   "execution_count": 18,
   "metadata": {
    "collapsed": false
   },
   "outputs": [],
   "source": [
    "mark_a = Markov(1, 0, 0)\n",
    "for i in range(len(all_melodies)):\n",
    "    iterate_melody(all_melodies[i], mark_a, before = 1, after = 0)"
   ]
  },
  {
   "cell_type": "code",
   "execution_count": 20,
   "metadata": {
    "collapsed": false
   },
   "outputs": [
    {
     "name": "stdout",
     "output_type": "stream",
     "text": [
      "(32,) {13: 1.3626020248266096e-05, 14: 1.3626020248266096e-05, 16: 8.175612148959658e-05, 17: 1.3626020248266096e-05, 18: 6.131709111719744e-05, 19: 3.4065050620665245e-05, 20: 0.0014852362070610046, 21: 4.769107086893134e-05, 22: 0.0006336099415443734, 23: 0.00044284565806864816, 24: 0.0005246017795582448, 25: 0.007616945318780748, 26: 0.009817547588875722, 27: 0.0191104933981932, 28: 0.012297483274060153, 29: 0.016208151085312525, 30: 0.03929062938587529, 31: 0.036715311558952995, 32: 0.40460423224188935, 33: 0.06311572578996856, 34: 0.06838218261592341, 35: 0.03385384730681712, 36: 0.021372412759405372, 37: 0.042996906893403665, 38: 0.008509449645042178, 39: 0.033404188638624335, 40: 0.005722928504271761, 41: 0.003011350474866807, 42: 0.005491286160051238, 43: 0.0023164234422052366, 44: 0.08025044625216317, 45: 0.007821335622504741, 46: 0.00507569254247912, 47: 0.0015261142678058028, 48: 0.001260406872964614, 49: 0.0012944719235852792, 50: 0.000565479840303043, 51: 0.006976522367112241, 52: 0.0007630571339029014, 53: 0.0029159683331289447, 54: 0.011234653694695397, 55: 0.001410293095695541, 56: 0.0143686383517966, 57: 0.000565479840303043, 58: 0.002541252776301627, 59: 0.0030249764951150735, 60: 0.003815285669514507, 61: 0.001389854065323142, 62: 0.0008107482047718328, 63: 0.0060158879396094815, 64: 0.000858439275640764, 65: 0.0009606344275027598, 66: 0.0011582117211026183, 67: 0.0007085530529098371, 68: 0.001260406872964614, 69: 0.00017713826322745928, 70: 0.000422406627696249, 71: 0.0003474635163307855, 72: 0.0004019675973238498, 73: 0.0001975772935998584, 74: 0.00021801632397225754, 75: 0.0013694150349507427, 76: 8.856913161372964e-05, 77: 0.000143073212606794, 78: 4.769107086893134e-05, 79: 8.175612148959658e-05, 80: 2.0439030372399144e-05, 81: 4.769107086893134e-05, 82: 0.000143073212606794, 83: 4.087806074479829e-05, 84: 6.813010124133049e-05, 85: 4.087806074479829e-05, 86: 2.0439030372399144e-05, 87: 6.131709111719744e-05, 88: 1.3626020248266096e-05, 89: 6.813010124133048e-06, 90: 2.0439030372399144e-05, 91: 1.3626020248266096e-05, 92: 1.3626020248266096e-05, 93: 2.0439030372399144e-05, 94: 2.7252040496532193e-05, 95: 6.813010124133048e-06, 97: 1.3626020248266096e-05, 98: 6.813010124133048e-06, 99: 2.0439030372399144e-05, 100: 2.7252040496532193e-05, 101: 2.0439030372399144e-05, 102: 2.0439030372399144e-05, 103: 2.0439030372399144e-05, 114: 6.813010124133048e-06, 115: 4.087806074479829e-05}\n",
      "(124,) {59: 0.011904761904761906, 74: 0.011904761904761906, 77: 0.011904761904761906, 112: 0.09523809523809525, 81: 0.011904761904761906, 115: 0.011904761904761906, 116: 0.05952380952380953, 56: 0.011904761904761906, 120: 0.16666666666666669, 121: 0.1785714285714286, 122: 0.04761904761904762, 123: 0.14285714285714288, 124: 0.2023809523809524, 125: 0.02380952380952381, 52: 0.011904761904761906}\n"
     ]
    }
   ],
   "source": [
    "mark_a.normalize()\n",
    "for key in mark_a.state_dict.keys()[:2]:\n",
    "    print key, mark_a.state_dict[key]"
   ]
  },
  {
   "cell_type": "markdown",
   "metadata": {},
   "source": [
    "As you can see, the note '32' is followed by a large variety of other notes throughout the corpus. As such, the probability of any one such note is pretty slim, compared to the toy examples above. Let's see what the most likely notes are ..."
   ]
  },
  {
   "cell_type": "code",
   "execution_count": 31,
   "metadata": {
    "collapsed": true
   },
   "outputs": [],
   "source": [
    "import matplotlib.pyplot as plt\n",
    "%matplotlib inline"
   ]
  },
  {
   "cell_type": "code",
   "execution_count": 32,
   "metadata": {
    "collapsed": false
   },
   "outputs": [
    {
     "data": {
      "text/plain": [
       "<Container object of 91 artists>"
      ]
     },
     "execution_count": 32,
     "metadata": {},
     "output_type": "execute_result"
    },
    {
     "data": {
      "image/png": "[encoded data removed]",
      "text/plain": [
       "<matplotlib.figure.Figure at 0x1651fbb90>"
      ]
     },
     "metadata": {},
     "output_type": "display_data"
    }
   ],
   "source": [
    "key = mark_a.state_dict.keys()[0]\n",
    "D = mark_a.state_dict[key]\n",
    "\n",
    "plt.bar(D.keys(), D.values(), align='center')"
   ]
  },
  {
   "cell_type": "markdown",
   "metadata": {},
   "source": [
    "This seems like it would be pretty typical, a normal looking density centered around the note 32 itself, with an outlier second mode exactly one octave up, and a bit of a longer tail on the right side, where there is more room to have a tail. Cool!"
   ]
  },
  {
   "cell_type": "code",
   "execution_count": 33,
   "metadata": {
    "collapsed": false
   },
   "outputs": [],
   "source": [
    "with open('mark100.pkl', 'w') as f:\n",
    "    pickle.dump(mark_a, f)"
   ]
  },
  {
   "cell_type": "markdown",
   "metadata": {},
   "source": [
    "Note that this pickled file of 'counts' is much smaller (245K) than the collection of pickled sequences (~500M)."
   ]
  },
  {
   "cell_type": "code",
   "execution_count": null,
   "metadata": {
    "collapsed": false
   },
   "outputs": [],
   "source": [
    "##DANGER: THIS LOOP CRASHES KERNEL AT THIS STAGE\n",
    "\"\"\"\n",
    "for before in range(4):\n",
    "    for after in range(4):\n",
    "        if before == 0:\n",
    "            if after == 0:\n",
    "                continue\n",
    "            mode = 1\n",
    "        elif after == 0:\n",
    "            mode = 0\n",
    "        else:\n",
    "            mode = 2\n",
    "        mark = Markov(before, after, mode)\n",
    "        for k in range(len(all_melodies)):\n",
    "            iterate_melody(all_melodies[k], mark, before = before, after = after)\n",
    "        mark.normalize()\n",
    "        with open('markov' + str(before) + str(after) + str(mode) + '.pkl', 'w') as f:\n",
    "            pickle.dump(mark, f)\n",
    "\"\"\""
   ]
  },
  {
   "cell_type": "markdown",
   "metadata": {
    "collapsed": false
   },
   "source": [
    "As it turns out, this way of storing the information isn't great either; with Markov chains of order >= 4, the kernel crashed!"
   ]
  },
  {
   "cell_type": "markdown",
   "metadata": {},
   "source": [
    "One thing left to ponder is how **absolutely** we want to represent note position in these chains. For example, is the sequence C-D-E pretty much equivalent to the sequence G-A-B? Can we count them as one? And if so, will this improve the runtime for these training steps?"
   ]
  }
 ],
 "metadata": {
  "kernelspec": {
   "display_name": "Python 2",
   "language": "python",
   "name": "python2"
  },
  "language_info": {
   "codemirror_mode": {
    "name": "ipython",
    "version": 2
   },
   "file_extension": ".py",
   "mimetype": "text/x-python",
   "name": "python",
   "nbconvert_exporter": "python",
   "pygments_lexer": "ipython2",
   "version": "2.7.10"
  }
 },
 "nbformat": 4,
 "nbformat_minor": 0
}
