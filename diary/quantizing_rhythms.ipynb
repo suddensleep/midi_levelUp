{
 "cells": [
  {
   "cell_type": "markdown",
   "metadata": {},
   "source": [
    "# Finding most likely rhythmic patterns (Quantizing)"
   ]
  },
  {
   "cell_type": "markdown",
   "metadata": {},
   "source": [
    "We would like to take the floating point tick values (in units of 'beats') and round them to some rational fraction that makes musical sense. We might imagine that there are different granular levels of musical complexity around a single beat: one could simply play four notes to a beat, or they could play twelve notes to that beat. Note that most of Western music is broken into fourths and/or thirds, and these sub-intervals may also be broken up themselves in similar ways. \n",
    "\n",
    "I propose a three-level hierarchy:"
   ]
  },
  {
   "cell_type": "markdown",
   "metadata": {},
   "source": [
    "###Level 1: Thirds and Fourths\n",
    "###Level 2: Same as Level 1 with Sixths and Eighths added\n",
    "###Level 3: Same as Level 2 with Ninths, Twelvths, and Sixteenths added"
   ]
  },
  {
   "cell_type": "markdown",
   "metadata": {},
   "source": [
    "It's unclear which of these quantizations will be the most useful for us in building our rhythm markov model, so let's build all three!"
   ]
  },
  {
   "cell_type": "code",
   "execution_count": 89,
   "metadata": {
    "collapsed": true
   },
   "outputs": [],
   "source": [
    "import pickle\n",
    "from math import modf\n",
    "from bisect import bisect"
   ]
  },
  {
   "cell_type": "code",
   "execution_count": 90,
   "metadata": {
    "collapsed": true
   },
   "outputs": [],
   "source": [
    "with open('../all_rhythms.pkl', 'r') as g:\n",
    "    all_rhythms = pickle.load(g)"
   ]
  },
  {
   "cell_type": "markdown",
   "metadata": {},
   "source": [
    "First, we'll construct some global lists for quantization and a general function that will round a given floating point tick value to the nearest quantized value."
   ]
  },
  {
   "cell_type": "code",
   "execution_count": 102,
   "metadata": {
    "collapsed": true
   },
   "outputs": [],
   "source": [
    "level_lists = [[0.0, 1/4.0, 1/3.0, 1/2.0, 2/3.0, 3/4.0, 1.0], \n",
    "               [0.0, 1/8.0, 1/6.0, 1/4.0, 1/3.0, 3/8.0, 1/2.0, \n",
    "                5/8.0, 2/3.0, 3/4.0, 5/6.0, 7/8.0, 1.0],\n",
    "               [0.0, 1/16.0, 1/12.0, 1/9.0, 1/8.0, 1/6.0, 3/16.0, \n",
    "                2/9.0, 1/4.0, 5/16.0, 1/3.0, 3/8.0, 5/12.0, \n",
    "                7/16.0, 4/9.0, 1/2.0, 5/9.0, 9/16.0, 7/12.0, \n",
    "                5/8.0, 2/3.0, 11/16.0, 3/4.0, 7/9.0, 13/16.0, \n",
    "                5/6.0, 7/8.0, 8/9.0, 11/12.0, 15/16.0, 1.0]]\n",
    "\n",
    "def myround(tick, level):\n",
    "    \"\"\"Rounds a tick value to the nearest fractional beat interval \n",
    "    at the given level. The levels are defined as: \n",
    "    \n",
    "    Level 1: Thirds and Fourths\n",
    "    Level 2: Level 1 & Sixths and Eighths\n",
    "    Level 3: Level 2 & Ninths, Twelvths, and Sixteenths\n",
    "    \n",
    "    Inputs: tick is a floating point tick value\n",
    "            level is one of {1, 2, 3} as defined above\n",
    "            \n",
    "    Outputs: quantized tick value\n",
    "    \"\"\"\n",
    "    \n",
    "    if int(tick) == tick:\n",
    "        return tick\n",
    "    \n",
    "    level_list = level_lists[level - 1]\n",
    "    \n",
    "    frac_tick, whole_tick = modf(tick)\n",
    "    \n",
    "    insert = bisect(level_list, frac_tick)\n",
    "    \n",
    "    dist1, dist2 = abs(frac_tick - level_list[insert - 1]), abs(frac_tick - level_list[insert])\n",
    "    \n",
    "    if dist1 < dist2:\n",
    "        return whole_tick + round(level_list[insert - 1], 4)\n",
    "    return whole_tick + round(level_list[insert], 4)"
   ]
  },
  {
   "cell_type": "markdown",
   "metadata": {},
   "source": [
    "For example:"
   ]
  },
  {
   "cell_type": "code",
   "execution_count": 103,
   "metadata": {
    "collapsed": false
   },
   "outputs": [
    {
     "data": {
      "text/plain": [
       "(7.0, 6.875, 6.9167)"
      ]
     },
     "execution_count": 103,
     "metadata": {},
     "output_type": "execute_result"
    }
   ],
   "source": [
    "myround(6.9083333, 1), myround(6.9083333, 2), myround(6.9083333, 3)"
   ]
  },
  {
   "cell_type": "markdown",
   "metadata": {},
   "source": [
    "Now we can map the raw tick values into each grid using this helper function."
   ]
  },
  {
   "cell_type": "code",
   "execution_count": 105,
   "metadata": {
    "collapsed": true
   },
   "outputs": [],
   "source": [
    "def quantize(level):\n",
    "    all_rhythms_quantized = []\n",
    "    for rhythm in all_rhythms:\n",
    "        inner = []\n",
    "        for tick in rhythm:\n",
    "            new_tick = myround(tick, level)\n",
    "            if len(inner) > 0 and new_tick == inner[-1]:\n",
    "                continue\n",
    "            inner.append(new_tick)\n",
    "        all_rhythms_quantized.append(inner)\n",
    "    assert len(all_rhythms_quantized) == len(all_rhythms)\n",
    "    return all_rhythms_quantized"
   ]
  },
  {
   "cell_type": "code",
   "execution_count": 106,
   "metadata": {
    "collapsed": false
   },
   "outputs": [],
   "source": [
    "all_rhythms_level_1 = quantize(1)\n",
    "all_rhythms_level_2 = quantize(2)\n",
    "all_rhythms_level_3 = quantize(3)"
   ]
  },
  {
   "cell_type": "markdown",
   "metadata": {},
   "source": [
    "Let's make sure this worked properly:"
   ]
  },
  {
   "cell_type": "code",
   "execution_count": 107,
   "metadata": {
    "collapsed": false
   },
   "outputs": [
    {
     "name": "stdout",
     "output_type": "stream",
     "text": [
      "[3.0, 4.0, 5.0, 5.75, 6.0, 7.0, 8.0, 9.0, 10.0, 11.0, 12.0, 13.0, 14.0, 14.6667, 14.75, 15.0, 16.0, 17.0, 171.0, 172.0, 173.0, 174.0]\n"
     ]
    }
   ],
   "source": [
    "print all_rhythms_level_1[0]"
   ]
  },
  {
   "cell_type": "code",
   "execution_count": 108,
   "metadata": {
    "collapsed": false
   },
   "outputs": [
    {
     "name": "stdout",
     "output_type": "stream",
     "text": [
      "[3.0, 4.0, 5.0, 5.75, 5.875, 6.125, 7.0, 8.0, 9.0, 10.0, 11.0, 12.0, 13.0, 14.0, 14.6667, 14.8333, 15.0, 16.0, 17.0, 171.0, 172.0, 173.0, 174.0]\n"
     ]
    }
   ],
   "source": [
    "print all_rhythms_level_2[0]"
   ]
  },
  {
   "cell_type": "code",
   "execution_count": 109,
   "metadata": {
    "collapsed": false
   },
   "outputs": [
    {
     "name": "stdout",
     "output_type": "stream",
     "text": [
      "[3.0, 4.0, 5.0, 5.6875, 5.875, 6.0625, 6.9375, 8.0, 8.9375, 9.0, 10.0, 11.0, 11.9375, 12.0, 13.0, 14.0, 14.6875, 14.8333, 15.0, 16.0, 17.0, 171.0, 171.9375, 173.0, 174.0]\n"
     ]
    }
   ],
   "source": [
    "print all_rhythms_level_3[0]"
   ]
  },
  {
   "cell_type": "markdown",
   "metadata": {},
   "source": [
    "Success!"
   ]
  },
  {
   "cell_type": "code",
   "execution_count": 110,
   "metadata": {
    "collapsed": true
   },
   "outputs": [],
   "source": [
    "with open('../all_rhythms_level_1.pkl', 'w') as f:\n",
    "    pickle.dump(all_rhythms_level_1, f)"
   ]
  },
  {
   "cell_type": "code",
   "execution_count": 111,
   "metadata": {
    "collapsed": true
   },
   "outputs": [],
   "source": [
    "with open('../all_rhythms_level_2.pkl', 'w') as f:\n",
    "    pickle.dump(all_rhythms_level_2, f)"
   ]
  },
  {
   "cell_type": "code",
   "execution_count": 112,
   "metadata": {
    "collapsed": true
   },
   "outputs": [],
   "source": [
    "with open('../all_rhythms_level_3.pkl', 'w') as f:\n",
    "    pickle.dump(all_rhythms_level_3, f)"
   ]
  }
 ],
 "metadata": {
  "kernelspec": {
   "display_name": "Python 2",
   "language": "python",
   "name": "python2"
  },
  "language_info": {
   "codemirror_mode": {
    "name": "ipython",
    "version": 2
   },
   "file_extension": ".py",
   "mimetype": "text/x-python",
   "name": "python",
   "nbconvert_exporter": "python",
   "pygments_lexer": "ipython2",
   "version": "2.7.10"
  }
 },
 "nbformat": 4,
 "nbformat_minor": 0
}
