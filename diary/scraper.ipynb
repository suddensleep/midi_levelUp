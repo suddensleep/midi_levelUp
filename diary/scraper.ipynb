{
 "cells": [
  {
   "cell_type": "code",
   "execution_count": 125,
   "metadata": {
    "collapsed": true
   },
   "outputs": [],
   "source": [
    "import requests\n",
    "import bs4\n",
    "from bs4 import BeautifulSoup as bs"
   ]
  },
  {
   "cell_type": "markdown",
   "metadata": {},
   "source": [
    "Here, I will scrape four different MIDI sites to get my raw MIDI data."
   ]
  },
  {
   "cell_type": "markdown",
   "metadata": {},
   "source": [
    "## http://mididb.com"
   ]
  },
  {
   "cell_type": "code",
   "execution_count": null,
   "metadata": {
    "collapsed": true
   },
   "outputs": [],
   "source": [
    "homepage = 'http://mididb.com'"
   ]
  },
  {
   "cell_type": "code",
   "execution_count": null,
   "metadata": {
    "collapsed": true
   },
   "outputs": [],
   "source": [
    "page1 = requests.get(homepage)"
   ]
  },
  {
   "cell_type": "code",
   "execution_count": null,
   "metadata": {
    "collapsed": false
   },
   "outputs": [],
   "source": [
    "head_soup = bs(page1.text)"
   ]
  },
  {
   "cell_type": "code",
   "execution_count": null,
   "metadata": {
    "collapsed": false
   },
   "outputs": [],
   "source": [
    "link_list = []\n",
    "for genre in head_soup.find(id = \"primary-main-menu\").find_next().find_next_siblings():\n",
    "    link_list.append(genre.find('a').get('href'))"
   ]
  },
  {
   "cell_type": "code",
   "execution_count": null,
   "metadata": {
    "collapsed": false
   },
   "outputs": [],
   "source": [
    "soup_list = []\n",
    "for link in link_list:\n",
    "    page = requests.get(link)\n",
    "    if page.status_code == 200:\n",
    "        soup_list.append(bs(page.text))\n",
    "    else:\n",
    "        print \"Scraping error on \" + link\n",
    "        break"
   ]
  },
  {
   "cell_type": "code",
   "execution_count": null,
   "metadata": {
    "collapsed": false
   },
   "outputs": [],
   "source": [
    "assert(len(soup_list) == len(link_list))"
   ]
  },
  {
   "cell_type": "code",
   "execution_count": null,
   "metadata": {
    "collapsed": false
   },
   "outputs": [],
   "source": [
    "all_link_dict = {}\n",
    "for soup in soup_list:\n",
    "    for child in soup.find('div', class_=\"entry-content\").find_next().find_next_sibling().find_all('a'):\n",
    "        link, artist = child.get('href'), child.text\n",
    "        if link not in all_link_dict:\n",
    "            all_link_dict[link] = artist"
   ]
  },
  {
   "cell_type": "code",
   "execution_count": null,
   "metadata": {
    "collapsed": false
   },
   "outputs": [],
   "source": [
    "len(all_link_dict)"
   ]
  },
  {
   "cell_type": "code",
   "execution_count": null,
   "metadata": {
    "collapsed": false
   },
   "outputs": [],
   "source": [
    "for link in all_link_dict:\n",
    "    if link[0] == '/':\n",
    "        page = requests.get(homepage+link)\n",
    "    else:\n",
    "        page = requests.get(link)\n",
    "    if page.status_code == 200:\n",
    "        all_link_dict[link] = bs(page.text)\n",
    "    else:\n",
    "        print \"Scraping error on \" + link\n",
    "        break"
   ]
  },
  {
   "cell_type": "code",
   "execution_count": null,
   "metadata": {
    "collapsed": false
   },
   "outputs": [],
   "source": [
    "for value in all_link_dict.values():\n",
    "    assert isinstance(value, bs4.BeautifulSoup)"
   ]
  },
  {
   "cell_type": "code",
   "execution_count": null,
   "metadata": {
    "collapsed": false
   },
   "outputs": [],
   "source": [
    "for soup in all_link_dict.values():\n",
    "    for link in soup.find_all('a'):\n",
    "        url = link.get('href')\n",
    "        if url[-4:] == '.mid':\n",
    "            midi = requests.get(url)\n",
    "            if midi.status_code == 200:\n",
    "                with open('../midi/pop/' + url[url.rfind('/') + 1:], 'wb') as f:\n",
    "                    f.write(midi.content)\n",
    "            else:\n",
    "                print \"Scraping error on \" + url\n",
    "                break"
   ]
  },
  {
   "cell_type": "markdown",
   "metadata": {},
   "source": [
    "## http://midi-archive.com"
   ]
  },
  {
   "cell_type": "code",
   "execution_count": null,
   "metadata": {
    "collapsed": false
   },
   "outputs": [],
   "source": [
    "homepage = 'http://midi-archive.com/'\n",
    "page1 = requests.get(homepage)\n",
    "page1.status_code"
   ]
  },
  {
   "cell_type": "code",
   "execution_count": null,
   "metadata": {
    "collapsed": true
   },
   "outputs": [],
   "source": [
    "soup = bs(page1.text)"
   ]
  },
  {
   "cell_type": "code",
   "execution_count": null,
   "metadata": {
    "collapsed": false
   },
   "outputs": [],
   "source": [
    "for link in soup.find_all('a'):\n",
    "    url = link.get('href')\n",
    "    if url and url[-4:] == '.mid':\n",
    "        midi = requests.get(homepage+url)\n",
    "        if midi.status_code == 200:\n",
    "            with open('../midi/pop/' + url[url.rfind('/') + 1:], 'wb') as f:\n",
    "                f.write(midi.content)\n",
    "        else:\n",
    "            print \"Error scraping on \" + url"
   ]
  },
  {
   "cell_type": "markdown",
   "metadata": {},
   "source": [
    "## http://midiworld.com"
   ]
  },
  {
   "cell_type": "code",
   "execution_count": null,
   "metadata": {
    "collapsed": false
   },
   "outputs": [],
   "source": [
    "prefix = 'http://midiworld.com/download/'\n",
    "for i in range(1, 4527):\n",
    "    page = requests.get(prefix+str(i))\n",
    "    if page.status_code == 200:\n",
    "        with open('../midi/pop/midiworld_'+str(i)+'.mid', 'wb') as f:\n",
    "            f.write(page.content)\n",
    "    else:\n",
    "        print \"Error scraping on \" + str(i)"
   ]
  },
  {
   "cell_type": "markdown",
   "metadata": {},
   "source": [
    "## http://www.partnersinrhyme.com"
   ]
  },
  {
   "cell_type": "code",
   "execution_count": null,
   "metadata": {
    "collapsed": false
   },
   "outputs": [],
   "source": [
    "home = 'http://www.partnersinrhyme.com/midi/midiartists/index.shtml'"
   ]
  },
  {
   "cell_type": "code",
   "execution_count": null,
   "metadata": {
    "collapsed": true
   },
   "outputs": [],
   "source": [
    "page1 = requests.get(home)"
   ]
  },
  {
   "cell_type": "code",
   "execution_count": null,
   "metadata": {
    "collapsed": false
   },
   "outputs": [],
   "source": [
    "page1.status_code"
   ]
  },
  {
   "cell_type": "code",
   "execution_count": null,
   "metadata": {
    "collapsed": true
   },
   "outputs": [],
   "source": [
    "soup = bs(page1.text)"
   ]
  },
  {
   "cell_type": "code",
   "execution_count": null,
   "metadata": {
    "collapsed": false
   },
   "outputs": [],
   "source": [
    "PIR_links = map(lambda x: x.get('href'), soup.find_all('table', width = '471')[1].find_all('tr')[1].find_all('a'))"
   ]
  },
  {
   "cell_type": "code",
   "execution_count": null,
   "metadata": {
    "collapsed": false
   },
   "outputs": [],
   "source": [
    "PIR_links = set(PIR_links)"
   ]
  },
  {
   "cell_type": "code",
   "execution_count": null,
   "metadata": {
    "collapsed": false
   },
   "outputs": [],
   "source": [
    "soups = []\n",
    "for link in PIR_links:\n",
    "    page = requests.get(link)\n",
    "    if page.status_code == 200:\n",
    "        soups.append(bs(page.text))\n",
    "    else:\n",
    "        print \"Error scraping on \" + link"
   ]
  },
  {
   "cell_type": "code",
   "execution_count": null,
   "metadata": {
    "collapsed": false
   },
   "outputs": [],
   "source": [
    "len(soups)"
   ]
  },
  {
   "cell_type": "code",
   "execution_count": null,
   "metadata": {
    "collapsed": false
   },
   "outputs": [],
   "source": [
    "song_links = []\n",
    "for soup in soups:\n",
    "    for link in soup.find_all('a'):\n",
    "        url = link.get('href')\n",
    "        if url and url[:11] == 'midiartists':\n",
    "            song_links.append('http://www.partnersinrhyme.com/midi/midiartists/'+url)"
   ]
  },
  {
   "cell_type": "code",
   "execution_count": null,
   "metadata": {
    "collapsed": false
   },
   "outputs": [],
   "source": [
    "len(song_links)"
   ]
  },
  {
   "cell_type": "code",
   "execution_count": null,
   "metadata": {
    "collapsed": false
   },
   "outputs": [],
   "source": [
    "song_soups = []\n",
    "for link in song_links:\n",
    "    song_page = requests.get(link)\n",
    "    if song_page.status_code == 200:\n",
    "        song_soups.append(bs(song_page.text))\n",
    "    else:\n",
    "        print \"Error scraping at \" + link"
   ]
  },
  {
   "cell_type": "code",
   "execution_count": null,
   "metadata": {
    "collapsed": false
   },
   "outputs": [],
   "source": [
    "len(song_soups)"
   ]
  },
  {
   "cell_type": "code",
   "execution_count": null,
   "metadata": {
    "collapsed": false
   },
   "outputs": [],
   "source": [
    "for soup in song_soups:\n",
    "    link = soup.find('div', align = 'center')\n",
    "    if link:\n",
    "        url = link.find('a').get('href')\n",
    "        if url[:4] == 'http':\n",
    "            midi = requests.get(url)\n",
    "        else:\n",
    "            continue\n",
    "        if midi.status_code == 200:\n",
    "            with open('../midi/pop' + url[url.rfind('/'):], 'wb') as f:\n",
    "                f.write(midi.content)\n",
    "        else:\n",
    "            print \"Error scraping at \" + url\n",
    "    else:\n",
    "        print \"Something is off at the page \" + link"
   ]
  }
 ],
 "metadata": {
  "kernelspec": {
   "display_name": "Python 2",
   "language": "python",
   "name": "python2"
  },
  "language_info": {
   "codemirror_mode": {
    "name": "ipython",
    "version": 2
   },
   "file_extension": ".py",
   "mimetype": "text/x-python",
   "name": "python",
   "nbconvert_exporter": "python",
   "pygments_lexer": "ipython2",
   "version": "2.7.10"
  }
 },
 "nbformat": 4,
 "nbformat_minor": 0
}
