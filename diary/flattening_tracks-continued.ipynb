{
 "cells": [
  {
   "cell_type": "markdown",
   "metadata": {},
   "source": [
    "#Flattening Tracks "
   ]
  },
  {
   "cell_type": "markdown",
   "metadata": {},
   "source": [
    "First, we'll get the list of files from the ./midi/pop directory."
   ]
  },
  {
   "cell_type": "code",
   "execution_count": 13,
   "metadata": {
    "collapsed": true
   },
   "outputs": [],
   "source": [
    "import os\n",
    "import midi\n",
    "import fluidsynth"
   ]
  },
  {
   "cell_type": "code",
   "execution_count": 14,
   "metadata": {
    "collapsed": false
   },
   "outputs": [],
   "source": [
    "midi_path = '../midi/pop/'\n",
    "midi_files = os.listdir(midi_path)"
   ]
  },
  {
   "cell_type": "code",
   "execution_count": 15,
   "metadata": {
    "collapsed": false
   },
   "outputs": [
    {
     "data": {
      "text/plain": [
       "8233"
      ]
     },
     "execution_count": 15,
     "metadata": {},
     "output_type": "execute_result"
    }
   ],
   "source": [
    "len(midi_files)"
   ]
  },
  {
   "cell_type": "markdown",
   "metadata": {},
   "source": [
    "Success. Now, we want to figure out which instruments are on which channels for each file. The following function returns a dictionary with keys 0-15 representing the channels and values representing a list of instruments assigned to that channel at various points of the composition."
   ]
  },
  {
   "cell_type": "code",
   "execution_count": 17,
   "metadata": {
    "collapsed": false
   },
   "outputs": [],
   "source": [
    "def get_channel_mappings(mfile):\n",
    "    \"\"\"Return a dictionary of which instruments are used on each of the 16 channels.\n",
    "    \n",
    "    Input: midi.containers.Pattern object\n",
    "    Output: dictionary\n",
    "    \"\"\"\n",
    "    \n",
    "    channel_map = {i:None for i in range(16)}\n",
    "    for track in mfile:\n",
    "        for event in track:\n",
    "            if isinstance(event, midi.ProgramChangeEvent):\n",
    "                if channel_map[event.channel] is None:\n",
    "                    channel_map[event.channel] = event.data\n",
    "                elif event.data[0] in channel_map[event.channel]:\n",
    "                    continue\n",
    "                else:\n",
    "                    channel_map[event.channel] += event.data\n",
    "    return channel_map"
   ]
  },
  {
   "cell_type": "markdown",
   "metadata": {},
   "source": [
    "So now, we just find all the mappings for our corpus of songs."
   ]
  },
  {
   "cell_type": "code",
   "execution_count": 18,
   "metadata": {
    "collapsed": false
   },
   "outputs": [],
   "source": [
    "all_channel_mappings = []\n",
    "\n",
    "for i in range(len(midi_files)):\n",
    "    try:\n",
    "        mfile = midi.read_midifile(midi_path+midi_files[i])\n",
    "        mfile.make_ticks_abs()\n",
    "        all_channel_mappings.append(get_channel_mappings(mfile))\n",
    "    except:\n",
    "        print \"Problem reading \" + midi_files[i]"
   ]
  },
  {
   "cell_type": "markdown",
   "metadata": {},
   "source": [
    "Nothing was lost! Phew."
   ]
  },
  {
   "cell_type": "code",
   "execution_count": 19,
   "metadata": {
    "collapsed": false
   },
   "outputs": [
    {
     "data": {
      "text/plain": [
       "8233"
      ]
     },
     "execution_count": 19,
     "metadata": {},
     "output_type": "execute_result"
    }
   ],
   "source": [
    "len(all_channel_mappings)"
   ]
  },
  {
   "cell_type": "markdown",
   "metadata": {},
   "source": [
    "Let's save this for later."
   ]
  },
  {
   "cell_type": "code",
   "execution_count": 20,
   "metadata": {
    "collapsed": false
   },
   "outputs": [],
   "source": [
    "import pickle\n",
    "with open('../channel_mappings.pkl', 'w') as f:\n",
    "    pickle.dump(all_channel_mappings, f)"
   ]
  }
 ],
 "metadata": {
  "kernelspec": {
   "display_name": "Python 2",
   "language": "python",
   "name": "python2"
  },
  "language_info": {
   "codemirror_mode": {
    "name": "ipython",
    "version": 2
   },
   "file_extension": ".py",
   "mimetype": "text/x-python",
   "name": "python",
   "nbconvert_exporter": "python",
   "pygments_lexer": "ipython2",
   "version": "2.7.10"
  }
 },
 "nbformat": 4,
 "nbformat_minor": 0
}
