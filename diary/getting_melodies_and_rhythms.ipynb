{
 "cells": [
  {
   "cell_type": "markdown",
   "metadata": {},
   "source": [
    "# Extracting Time Series Data from MIDI Files"
   ]
  },
  {
   "cell_type": "markdown",
   "metadata": {},
   "source": [
    "Let's start by loading all the file names and their channel mappings."
   ]
  },
  {
   "cell_type": "code",
   "execution_count": 2,
   "metadata": {
    "collapsed": true
   },
   "outputs": [],
   "source": [
    "import os\n",
    "import midi\n",
    "import pickle"
   ]
  },
  {
   "cell_type": "code",
   "execution_count": 3,
   "metadata": {
    "collapsed": true
   },
   "outputs": [],
   "source": [
    "with open('channel_mappings.pkl', 'r') as f:\n",
    "    channel_mappings = pickle.load(f)"
   ]
  },
  {
   "cell_type": "code",
   "execution_count": 4,
   "metadata": {
    "collapsed": true
   },
   "outputs": [],
   "source": [
    "midi_path = './midi/pop/'\n",
    "midi_files = os.listdir(midi_path)"
   ]
  },
  {
   "cell_type": "code",
   "execution_count": 5,
   "metadata": {
    "collapsed": true
   },
   "outputs": [],
   "source": [
    "assert len(midi_files) == len(channel_mappings)"
   ]
  },
  {
   "cell_type": "markdown",
   "metadata": {},
   "source": [
    "Before we begin, we'll want to denote which instruments actually play melodies (basically anything that isn't a toneless percussion instrument, sound effect, or \"pad\" instrument). See the chart in [this](./flattening_tracks.ipynb) notebook for reference. If a given channel uses a \"non-melody instrument\", we will only extract the rhythmic information from that channel."
   ]
  },
  {
   "cell_type": "code",
   "execution_count": 6,
   "metadata": {
    "collapsed": true
   },
   "outputs": [],
   "source": [
    "melody_instruments = range(88) + range(104, 112)"
   ]
  },
  {
   "cell_type": "markdown",
   "metadata": {},
   "source": [
    "Now we'll build new object types to contain the time series objects."
   ]
  },
  {
   "cell_type": "code",
   "execution_count": 117,
   "metadata": {
    "collapsed": true
   },
   "outputs": [],
   "source": [
    "class EventSequence(object):\n",
    "    \"\"\"A container for a sequence of events. \n",
    "    \n",
    "    Abstract class, to be implemented via MelodySequence\n",
    "    or RhythmSequence.\n",
    "    \"\"\"\n",
    "    \n",
    "    def __init__(self, num_events = 0, resolution = 240):\n",
    "        \"\"\"Initialize object with default of zero events and \n",
    "        resolution of 240 ticks per beat.\n",
    "        \"\"\"\n",
    "        \n",
    "        self.num_events = num_events\n",
    "        self.resolution = resolution\n",
    "    \n",
    "    def add_event(self):\n",
    "        \"\"\"Add one new event.\"\"\"\n",
    "        \n",
    "        self.num_events += 1\n",
    "        \n",
    "class MelodySequence(EventSequence):\n",
    "    \"\"\"A container for a melodic sequence. \n",
    "    Inherits from EventSequence.\n",
    "    \"\"\"\n",
    "    \n",
    "    def __init__(self, num_events = 0, resolution = 500000):\n",
    "        super(MelodySequence, self).__init__(num_events, resolution)\n",
    "        self.notes = []\n",
    "        \n",
    "    def add_note(self, note):\n",
    "        if len(self.notes) > 0 and note[1] == self.notes[-1][1]:\n",
    "            self.add_note_to_chord(note)\n",
    "        else:\n",
    "            super(MelodySequence, self).add_event()\n",
    "            self.notes.append(note)\n",
    "    \n",
    "    def add_note_to_chord(self, note):\n",
    "        previous = self.notes[-1]\n",
    "        if isinstance(previous[0], int):\n",
    "            self.notes[-1] = ([previous[0], note[0]], previous[1])\n",
    "        else:\n",
    "            self.notes[-1] = (previous[0] + [note[0]], previous[1])\n",
    "        \n",
    "class RhythmSequence(EventSequence):\n",
    "    \"\"\"A container for a rhythmic sequence.\n",
    "    Inherits from EventSequence.\n",
    "    \"\"\"\n",
    "    \n",
    "    def __init__(self, num_events = 0, resolution = 500000):\n",
    "        super(RhythmSequence, self).__init__(num_events, resolution)\n",
    "        self.ticks = []\n",
    "        \n",
    "    def add_tick(self, tick):\n",
    "        if len(self.ticks) > 0 and tick == self.ticks[-1]:\n",
    "            pass\n",
    "        else:\n",
    "            super(RhythmSequence, self).add_event()\n",
    "            self.ticks.append(tick)"
   ]
  },
  {
   "cell_type": "markdown",
   "metadata": {},
   "source": [
    "A couple of helper functions to actually extract the sequence of information from the given channel in the given MIDI file."
   ]
  },
  {
   "cell_type": "code",
   "execution_count": 118,
   "metadata": {
    "collapsed": false
   },
   "outputs": [],
   "source": [
    "def get_rhythm_sequence(rhythm, mfile, channel):\n",
    "    \"\"\"Pull out the rhythms from the given channel in mfile.\n",
    "    \n",
    "    Inputs: rhythm is an empty RhythmSequence object\n",
    "            mfile is a midi.containers.Pattern object\n",
    "            channel is an integer channel number from 0-15\n",
    "            \n",
    "    Output: RhythmSequence object filled with ticks from mfile channel\n",
    "    \"\"\"\n",
    "    \n",
    "    mfile.make_ticks_abs()\n",
    "    for track in mfile:\n",
    "        for event in track:\n",
    "            if isinstance(event, midi.events.NoteOnEvent) and event.channel == channel and event.data[1] != 0:\n",
    "                rhythm.add_tick(event.tick)\n",
    "    rhythm.ticks = sorted(rhythm.ticks)\n",
    "    return rhythm\n",
    "\n",
    "def get_melody_sequence(melody, mfile, channel):\n",
    "    \"\"\"Pull out the melodies from the given channel in mfile.\n",
    "    \n",
    "    Inputs: melody is an empty MelodySequence object\n",
    "            mfile is a midi.containers.Pattern object\n",
    "            channel is an integer channel number from 0-15 (shouldn't be 9)\n",
    "            \n",
    "    Output: MelodySequence object filled with notes from mfile channel\n",
    "    \"\"\"\n",
    "    \n",
    "    mfile.make_ticks_abs()\n",
    "    for track in mfile:\n",
    "        for event in track:\n",
    "            if isinstance(event, midi.events.NoteOnEvent) and event.channel == channel and event.data[1] != 0:\n",
    "                melody.add_note((event.data[0], event.tick))\n",
    "    melody.notes = sorted(melody.notes, key = lambda x: x[1])\n",
    "    melody.notes = list(zip(*melody.notes)[0])\n",
    "    return melody"
   ]
  },
  {
   "cell_type": "markdown",
   "metadata": {},
   "source": [
    "The main function below will loop through all of the assigned channels, create the relevant time series objects, and call the two helper functions above to get a rhythm and/or melody sequence for each instrument in the song."
   ]
  },
  {
   "cell_type": "code",
   "execution_count": 126,
   "metadata": {
    "collapsed": true
   },
   "outputs": [],
   "source": [
    "def get_sequences(mfile, mapping):\n",
    "    \"\"\"Extract a list of melody sequences and rhythm sequences from mfile.\n",
    "    \n",
    "    Inputs: mfile is a midi.containers.Pattern object\n",
    "            mapping is a dictionary associating \"\"\"\n",
    "    melodies = []\n",
    "    rhythms = []\n",
    "    res = mfile.resolution\n",
    "    for channel in mapping:\n",
    "        instruments = mapping[channel]\n",
    "        if instruments == None:\n",
    "            continue\n",
    "        \n",
    "        rhythm = RhythmSequence(resolution = res)\n",
    "        melody = MelodySequence(resolution = res)\n",
    "        melodic_channel = True\n",
    "\n",
    "        for instrument in instruments:\n",
    "            if instrument not in melody_instruments:\n",
    "                melodic_channel = False\n",
    "                break\n",
    "\n",
    "        if melodic_channel and channel != 9:\n",
    "            melodies.append(get_melody_sequence(melody, mfile, channel).notes)\n",
    "        else:\n",
    "            melodies.append([])\n",
    "\n",
    "        rhythms.append(get_rhythm_sequence(rhythm, mfile, channel).ticks)\n",
    "\n",
    "    return melodies, rhythms"
   ]
  },
  {
   "cell_type": "markdown",
   "metadata": {},
   "source": [
    "We'll do a test run on the first two files in the directory."
   ]
  },
  {
   "cell_type": "code",
   "execution_count": 127,
   "metadata": {
    "collapsed": false
   },
   "outputs": [],
   "source": [
    "mfile1 = midi.read_midifile(midi_path + midi_files[0])\n",
    "mapping1 = channel_mappings[0]\n",
    "mfile2 = midi.read_midifile(midi_path + midi_files[1])\n",
    "mapping2 = channel_mappings[1]\n",
    "\n",
    "melodies1, rhythms1 = get_sequences(mfile1, mapping1)\n",
    "melodies2, rhythms2 = get_sequences(mfile2, mapping2)"
   ]
  },
  {
   "cell_type": "code",
   "execution_count": 128,
   "metadata": {
    "collapsed": false
   },
   "outputs": [
    {
     "name": "stdout",
     "output_type": "stream",
     "text": [
      "[72, 73, 75, 68, 73, 76, 68, 73, 68, 71, 76, 68, 71, 68, 70, 76, 68, 70, 70, 73, 78, 70, 73, 65, 58, 60, 62]\n"
     ]
    }
   ],
   "source": [
    "print melodies1[0]"
   ]
  },
  {
   "cell_type": "code",
   "execution_count": 129,
   "metadata": {
    "collapsed": false
   },
   "outputs": [
    {
     "name": "stdout",
     "output_type": "stream",
     "text": [
      "[360, 480, 600, 686, 704, 728, 836, 961, 1076, 1079, 1081, 1200, 1320, 1436, 1438, 1440, 1560, 1680, 1762, 1780, 1803, 1920, 2040, 20520, 20634, 20760, 20881]\n"
     ]
    }
   ],
   "source": [
    "print rhythms1[0]"
   ]
  },
  {
   "cell_type": "markdown",
   "metadata": {},
   "source": [
    "Note that **either** there are an equal number of note events in corresponding melody and rhythm sequences **or** no melody information was recorded: "
   ]
  },
  {
   "cell_type": "code",
   "execution_count": 134,
   "metadata": {
    "collapsed": false
   },
   "outputs": [],
   "source": [
    "for i in range(len(melodies1)):\n",
    "    assert (len(melodies1[i]) == len(rhythms1[i]) or len(melodies1[i]) == 0)"
   ]
  },
  {
   "cell_type": "code",
   "execution_count": 135,
   "metadata": {
    "collapsed": false
   },
   "outputs": [
    {
     "name": "stdout",
     "output_type": "stream",
     "text": [
      "[[65, 58], [65, 58], [65, 58], [58, 65], [65, 60], [65, 60], [60, 65], [65, 58], [65, 58], [58, 65], [65, 60], [65, 60], [60, 65], [65, 58], [65, 58], [58, 65], [65, 57], [65, 57], [65, 57], [62, 55], [62, 55], [55, 62], [65, 57], [62, 69, 57], [69, 64, 57], 65, 62, [70, 65], [70, 63], [70, 65], 58, [69, 62], [69, 64], [69, 62], [67, 60], [67, 60], [67, 72], [72, 65], [72, 65], [65, 60], [65, 60], [65, 60], [65, 60], [65, 58], [65, 60], [58, 65], [69, 74], [69, 74], [69, 74], [70, 63], [70, 65], [70, 63], [65, 57], [62, 69, 57], [69, 64, 57], 65, 62, [70, 65], [70, 63], [70, 65], 58, [67, 60], [67, 60], [67, 60], [70, 62], [70, 62], [62, 65], 58, [60, 65], [65, 60], [65, 60], [62, 58], [62, 57], [62, 55], [58, 53], [58, 55], [58, 53], [65, 58], 60, 62, 58, 62, 62, 63, 65, 65, 60, 60, 62, 63, [63, 67], [62, 67], [63, 67], [62, 67], 62, [63, 67], [72, 63], 63, [70, 63], [70, 63], [70, 63], [65, 58], 60, 62, 58, 62, 62, 63, 65, 65, 60, 60, 62, 63, [63, 67], [62, 67], [63, 67], [62, 67], 62, [63, 67], [72, 63], 63, [70, 63], [70, 63], [70, 63], [65, 58], [70, 65], [65, 58], [58, 65], [65, 57], [65, 57], [65, 57], [62, 55], [62, 55], [55, 62], [65, 57], [62, 69, 57], [69, 65, 57], 62, 63, [70, 65], [70, 63], [70, 65], 58, [69, 62], [69, 74], [69, 62], [67, 72], [67, 60], [67, 72], [72, 65], [72, 65], [65, 60], [65, 60], [65, 60], [65, 60], 60, 62, 58, 62, 62, 63, 65, 65, 60, 60, 62, 63, [63, 67], [62, 67], [63, 67], [62, 67], 62, [63, 67], [72, 63], 63, [70, 63], [70, 63], [70, 63], [65, 58], 60, 62, 58, 62, 62, 63, 65, 65, 60, 60, 62, 63, [63, 67], [62, 67], [63, 67], [62, 67], 62, [63, 67], [72, 63], 63, [70, 63], [70, 63], [70, 63], [65, 58], [65, 70], [65, 70], [65, 70], [65, 57], [65, 57], [65, 57], [62, 55], [62, 55], [55, 62], [65, 57], [62, 69, 57], [69, 64, 57], 65, 62, [70, 65], 67, 65, [63, 70], [63, 70], [70, 65], 58, [69, 62], [69, 74], [69, 62], [67, 60], [67, 60], [67, 72], [72, 65], [72, 65], [65, 60], [65, 60], [65, 60], [65, 60], [65, 70], [65, 70], [65, 70], [69, 74], [69, 74], [69, 74], [70, 75], [70, 65], [70, 63], [65, 57], [62, 69, 57], [69, 64, 57], 65, 62, [70, 65], 67, 65, [63, 70], [63, 70], [70, 65], 58, [67, 60, 70], [67, 60, 70], [67, 60, 70], [70, 62], [70, 62], [62, 65], 58, [60, 65], [65, 60], [62, 58], [62, 57], [62, 55], [58, 53], [58, 55], [58, 53], [62, 58], [62, 57], [62, 55], [70, 65], [70, 67], [70, 65], [65, 58]]\n"
     ]
    }
   ],
   "source": [
    "print melodies2[0]"
   ]
  },
  {
   "cell_type": "code",
   "execution_count": 136,
   "metadata": {
    "collapsed": false
   },
   "outputs": [
    {
     "name": "stdout",
     "output_type": "stream",
     "text": [
      "[0, 0, 576, 1152, 1536, 2112, 2688, 3072, 3648, 4224, 4608, 5184, 5760, 6144, 6720, 7296, 7680, 8256, 8832, 9216, 9792, 10368, 10752, 11328, 11904, 12000, 12096, 12288, 12864, 13440, 13632, 13824, 14400, 14976, 15360, 15936, 16608, 16896, 17472, 18144, 18432, 19200, 19584, 19968, 20544, 21120, 21504, 22080, 22656, 23040, 23616, 24192, 24576, 25152, 25728, 25824, 25920, 26112, 26688, 27264, 27456, 27648, 28224, 28800, 29184, 29760, 30336, 30528, 30720, 31488, 31872, 32256, 32832, 33408, 33792, 34368, 34944, 35328, 36864, 37056, 37152, 37440, 37632, 37824, 38112, 38400, 38976, 39168, 39360, 39648, 39936, 40320, 40704, 40896, 40992, 41184, 41472, 41664, 41856, 42240, 42432, 42720, 43008, 43200, 43296, 43584, 43776, 43968, 44256, 44544, 45120, 45312, 45504, 45792, 46080, 46464, 46848, 47040, 47136, 47328, 47616, 47808, 48000, 48384, 48576, 48864, 49152, 49728, 50304, 50688, 51264, 51840, 52224, 52800, 53376, 53760, 54336, 54912, 55104, 55200, 55296, 55872, 56448, 56640, 56832, 57408, 57984, 58368, 58944, 59616, 59904, 60480, 61152, 61440, 62208, 62592, 62976, 63168, 63264, 63552, 63744, 63936, 64224, 64512, 65088, 65280, 65472, 65760, 66048, 66432, 66816, 67008, 67104, 67296, 67584, 67776, 67968, 68352, 68544, 68832, 69120, 69312, 69408, 69696, 69888, 70080, 70368, 70656, 71232, 71424, 71616, 71904, 72192, 72576, 72960, 73152, 73248, 73440, 73728, 73920, 74112, 74496, 74688, 74976, 75264, 75840, 76416, 76800, 77376, 77952, 78336, 78912, 79488, 79872, 80448, 81024, 81120, 81216, 81408, 81432, 81600, 81792, 82176, 82560, 82752, 82944, 83520, 84096, 84480, 85056, 85728, 86016, 86592, 87264, 87552, 88320, 88704, 89088, 89664, 90240, 90624, 91200, 91776, 92160, 92736, 93312, 93696, 94272, 94848, 94944, 95040, 95232, 95256, 95424, 95616, 96000, 96384, 96576, 96768, 97344, 97920, 98304, 98880, 99456, 99648, 99840, 100608, 101376, 101952, 102528, 102912, 103488, 104064, 104448, 105024, 105600, 105984, 106560, 107136, 107520]\n"
     ]
    }
   ],
   "source": [
    "print rhythms2[0]"
   ]
  },
  {
   "cell_type": "markdown",
   "metadata": {},
   "source": [
    "Note that we have a bit of an issue: the `rhythms2[0]` array starts with two consecutive zeros, which should really be flattened down to one, since these events happen at the same time. The issue here is that the note events came from two different tracks, and flattening only occurs within each track with the current setup. We address this issue in the [following notebook](./getting_melodies_and_rhythms_optimized.ipynb)."
   ]
  },
  {
   "cell_type": "code",
   "execution_count": 137,
   "metadata": {
    "collapsed": true
   },
   "outputs": [],
   "source": [
    "for i in range(len(melodies2)):\n",
    "    assert (len(melodies2[i]) == len(rhythms2[i]) or len(melodies2[i]) == 0)"
   ]
  },
  {
   "cell_type": "markdown",
   "metadata": {},
   "source": [
    "***Important note:*** The rhythm sequences are in units of \"ticks\", the definition of which change from file to file and depend on the global *resolution* parameter. This will be addressed in the following notebook when we extract the melodies and rhythms from *all* the tracks using our new framework."
   ]
  }
 ],
 "metadata": {
  "kernelspec": {
   "display_name": "Python 2",
   "language": "python",
   "name": "python2"
  },
  "language_info": {
   "codemirror_mode": {
    "name": "ipython",
    "version": 2
   },
   "file_extension": ".py",
   "mimetype": "text/x-python",
   "name": "python",
   "nbconvert_exporter": "python",
   "pygments_lexer": "ipython2",
   "version": "2.7.10"
  }
 },
 "nbformat": 4,
 "nbformat_minor": 0
}
